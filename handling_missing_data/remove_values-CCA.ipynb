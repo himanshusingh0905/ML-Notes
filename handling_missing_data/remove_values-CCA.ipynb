{
 "cells": [
  {
   "cell_type": "markdown",
   "id": "9bd4b189",
   "metadata": {},
   "source": [
    "# 1. Remove Values:\n",
    "## Complete Case Analysis (CCA) :\n",
    "- Also called \"**list-wise deletion**\"\n",
    "\n",
    "- Discards any row or column, where missing values are there.\n",
    "\n",
    "- **CCA means:** Analyzing only those rows which have information in all columns.\n",
    "\n",
    "## Assumptions for Using CCA:\n",
    "1. **Missing Completely At Random (MCAR):**\n",
    "   - The likelihood of a value being missing is completely unrelated to any **observed** or **unobserved** data.\n",
    "\n",
    "   - Example: A survey question gets skipped randomly due to a printing error.\n",
    "\n",
    "2. **Sufficient Sample Size After Deletion:**\n",
    "   - Enough data should remain after **dropping incomplete rows** to maintain statistical power.\n",
    "\n",
    "\n",
    "## When to Use CCA:\n",
    "\n",
    "1. **MCAR is reasonable:**\n",
    "   - If you have evidence or strong belief that missingness is purely random.\n",
    "\n",
    "2. **Low Proportion of Missing Data:**\n",
    "    - **If less than ~5% of your data is missing**, CCA usually won’t cause bias.\n",
    "\n",
    "    - But still **make sure losing data doesn't compromise model's accuracy or power**.\n",
    "\n",
    "## Advantages/Disadvantages : \n",
    "\n",
    "**Advantages of CCA:**\n",
    "- **Simple to implement** – No complex modeling or imputation needed.\n",
    "\n",
    "- **Maintains integrity** (as only real data is used, not using the imputed one)\n",
    "\n",
    "- **Preserves the variable distribution** ( If data is MCAR, then distribution of variables of reduced dataset should match the distribution in original dataset )\n",
    "\n",
    "**Disadvantages of CCA:**\n",
    "- **Data loss :** Can significantly reduce sample size.\n",
    "\n",
    "- **Bias results:**  If data is not MCAR, results will be biased.\n",
    "\n",
    "- **Reduced statistical power :** \n",
    "  - Less Data = lower ability to detect true effects.   \n",
    "\n",
    "  - As you have fewer samples left. So it's harder for **statistical tests** to **confidently** find real **patterns**. \n",
    "\n",
    "- **Inefficient :** Wastes partial information from incomplete rows.\n",
    "\n",
    "- **Not robust to MAR/NMAR :** Fails if missingness is related to observed/unobserved values.\n",
    "\n"
   ]
  },
  {
   "cell_type": "markdown",
   "id": "9f9e489e",
   "metadata": {},
   "source": [
    "![green-divider](https://user-images.githubusercontent.com/7065401/52071924-c003ad80-2562-11e9-8297-1c6595f8a7ff.png)"
   ]
  },
  {
   "cell_type": "code",
   "execution_count": 2,
   "id": "247785c0",
   "metadata": {},
   "outputs": [],
   "source": [
    "# Let's work on a example: \n",
    "\n",
    "import pandas as pd\n",
    "import numpy as np\n",
    "import matplotlib.pyplot as plt\n",
    "\n"
   ]
  },
  {
   "cell_type": "code",
   "execution_count": 3,
   "id": "a6bf5488",
   "metadata": {},
   "outputs": [
    {
     "data": {
      "text/html": [
       "<div>\n",
       "<style scoped>\n",
       "    .dataframe tbody tr th:only-of-type {\n",
       "        vertical-align: middle;\n",
       "    }\n",
       "\n",
       "    .dataframe tbody tr th {\n",
       "        vertical-align: top;\n",
       "    }\n",
       "\n",
       "    .dataframe thead th {\n",
       "        text-align: right;\n",
       "    }\n",
       "</style>\n",
       "<table border=\"1\" class=\"dataframe\">\n",
       "  <thead>\n",
       "    <tr style=\"text-align: right;\">\n",
       "      <th></th>\n",
       "      <th>enrollee_id</th>\n",
       "      <th>city</th>\n",
       "      <th>city_development_index</th>\n",
       "      <th>gender</th>\n",
       "      <th>relevent_experience</th>\n",
       "      <th>enrolled_university</th>\n",
       "      <th>education_level</th>\n",
       "      <th>major_discipline</th>\n",
       "      <th>experience</th>\n",
       "      <th>company_size</th>\n",
       "      <th>company_type</th>\n",
       "      <th>training_hours</th>\n",
       "      <th>target</th>\n",
       "    </tr>\n",
       "  </thead>\n",
       "  <tbody>\n",
       "    <tr>\n",
       "      <th>8100</th>\n",
       "      <td>7509</td>\n",
       "      <td>city_103</td>\n",
       "      <td>0.920</td>\n",
       "      <td>NaN</td>\n",
       "      <td>Has relevent experience</td>\n",
       "      <td>no_enrollment</td>\n",
       "      <td>Graduate</td>\n",
       "      <td>STEM</td>\n",
       "      <td>20.0</td>\n",
       "      <td>10000+</td>\n",
       "      <td>Pvt Ltd</td>\n",
       "      <td>36.0</td>\n",
       "      <td>0.0</td>\n",
       "    </tr>\n",
       "    <tr>\n",
       "      <th>13388</th>\n",
       "      <td>5972</td>\n",
       "      <td>city_97</td>\n",
       "      <td>0.925</td>\n",
       "      <td>Male</td>\n",
       "      <td>Has relevent experience</td>\n",
       "      <td>no_enrollment</td>\n",
       "      <td>Masters</td>\n",
       "      <td>STEM</td>\n",
       "      <td>16.0</td>\n",
       "      <td>1000-4999</td>\n",
       "      <td>Pvt Ltd</td>\n",
       "      <td>8.0</td>\n",
       "      <td>0.0</td>\n",
       "    </tr>\n",
       "    <tr>\n",
       "      <th>3068</th>\n",
       "      <td>31140</td>\n",
       "      <td>city_16</td>\n",
       "      <td>0.910</td>\n",
       "      <td>Male</td>\n",
       "      <td>No relevent experience</td>\n",
       "      <td>no_enrollment</td>\n",
       "      <td>Primary School</td>\n",
       "      <td>NaN</td>\n",
       "      <td>0.0</td>\n",
       "      <td>NaN</td>\n",
       "      <td>NaN</td>\n",
       "      <td>31.0</td>\n",
       "      <td>0.0</td>\n",
       "    </tr>\n",
       "    <tr>\n",
       "      <th>1867</th>\n",
       "      <td>14572</td>\n",
       "      <td>city_21</td>\n",
       "      <td>0.624</td>\n",
       "      <td>Male</td>\n",
       "      <td>Has relevent experience</td>\n",
       "      <td>no_enrollment</td>\n",
       "      <td>Masters</td>\n",
       "      <td>STEM</td>\n",
       "      <td>8.0</td>\n",
       "      <td>50-99</td>\n",
       "      <td>Public Sector</td>\n",
       "      <td>33.0</td>\n",
       "      <td>1.0</td>\n",
       "    </tr>\n",
       "    <tr>\n",
       "      <th>12971</th>\n",
       "      <td>22076</td>\n",
       "      <td>city_114</td>\n",
       "      <td>0.926</td>\n",
       "      <td>Male</td>\n",
       "      <td>Has relevent experience</td>\n",
       "      <td>no_enrollment</td>\n",
       "      <td>High School</td>\n",
       "      <td>NaN</td>\n",
       "      <td>5.0</td>\n",
       "      <td>500-999</td>\n",
       "      <td>Pvt Ltd</td>\n",
       "      <td>10.0</td>\n",
       "      <td>0.0</td>\n",
       "    </tr>\n",
       "  </tbody>\n",
       "</table>\n",
       "</div>"
      ],
      "text/plain": [
       "       enrollee_id      city  city_development_index gender  \\\n",
       "8100          7509  city_103                   0.920    NaN   \n",
       "13388         5972   city_97                   0.925   Male   \n",
       "3068         31140   city_16                   0.910   Male   \n",
       "1867         14572   city_21                   0.624   Male   \n",
       "12971        22076  city_114                   0.926   Male   \n",
       "\n",
       "           relevent_experience enrolled_university education_level  \\\n",
       "8100   Has relevent experience       no_enrollment        Graduate   \n",
       "13388  Has relevent experience       no_enrollment         Masters   \n",
       "3068    No relevent experience       no_enrollment  Primary School   \n",
       "1867   Has relevent experience       no_enrollment         Masters   \n",
       "12971  Has relevent experience       no_enrollment     High School   \n",
       "\n",
       "      major_discipline  experience company_size   company_type  \\\n",
       "8100              STEM        20.0       10000+        Pvt Ltd   \n",
       "13388             STEM        16.0    1000-4999        Pvt Ltd   \n",
       "3068               NaN         0.0          NaN            NaN   \n",
       "1867              STEM         8.0        50-99  Public Sector   \n",
       "12971              NaN         5.0      500-999        Pvt Ltd   \n",
       "\n",
       "       training_hours  target  \n",
       "8100             36.0     0.0  \n",
       "13388             8.0     0.0  \n",
       "3068             31.0     0.0  \n",
       "1867             33.0     1.0  \n",
       "12971            10.0     0.0  "
      ]
     },
     "execution_count": 3,
     "metadata": {},
     "output_type": "execute_result"
    }
   ],
   "source": [
    "df = pd.read_csv('../datasets/data_science_job.csv')\n",
    "df.sample(5)\n"
   ]
  },
  {
   "cell_type": "code",
   "execution_count": 4,
   "id": "f5d7dc19",
   "metadata": {},
   "outputs": [
    {
     "data": {
      "text/plain": [
       "(19158, 13)"
      ]
     },
     "execution_count": 4,
     "metadata": {},
     "output_type": "execute_result"
    }
   ],
   "source": [
    "df.shape"
   ]
  },
  {
   "cell_type": "code",
   "execution_count": 5,
   "id": "269bcdf9",
   "metadata": {},
   "outputs": [
    {
     "data": {
      "text/plain": [
       "enrollee_id                  0\n",
       "city                         0\n",
       "city_development_index     479\n",
       "gender                    4508\n",
       "relevent_experience          0\n",
       "enrolled_university        386\n",
       "education_level            460\n",
       "major_discipline          2813\n",
       "experience                  65\n",
       "company_size              5938\n",
       "company_type              6140\n",
       "training_hours             766\n",
       "target                       0\n",
       "dtype: int64"
      ]
     },
     "execution_count": 5,
     "metadata": {},
     "output_type": "execute_result"
    }
   ],
   "source": [
    "df.isnull().sum()"
   ]
  },
  {
   "cell_type": "code",
   "execution_count": 6,
   "id": "6bb68b84",
   "metadata": {},
   "outputs": [
    {
     "data": {
      "text/plain": [
       "enrollee_id                0.000000\n",
       "city                       0.000000\n",
       "city_development_index     2.500261\n",
       "gender                    23.530640\n",
       "relevent_experience        0.000000\n",
       "enrolled_university        2.014824\n",
       "education_level            2.401086\n",
       "major_discipline          14.683161\n",
       "experience                 0.339284\n",
       "company_size              30.994885\n",
       "company_type              32.049274\n",
       "training_hours             3.998330\n",
       "target                     0.000000\n",
       "dtype: float64"
      ]
     },
     "execution_count": 6,
     "metadata": {},
     "output_type": "execute_result"
    }
   ],
   "source": [
    "df.isnull().mean() * 100   # Percentage missing values in each column"
   ]
  },
  {
   "cell_type": "code",
   "execution_count": 7,
   "id": "d302c458",
   "metadata": {},
   "outputs": [
    {
     "data": {
      "text/plain": [
       "(8434, 13)"
      ]
     },
     "execution_count": 7,
     "metadata": {},
     "output_type": "execute_result"
    }
   ],
   "source": [
    "df.dropna().shape  # shape of dataframe after I remove the missing values"
   ]
  },
  {
   "cell_type": "markdown",
   "id": "7e915ab3",
   "metadata": {},
   "source": [
    "- Since, after removal of rows with missing values, the shape of the dataframe is drastically reduced. \n",
    "\n",
    "- Hence, applying **CCA(complete case analysis)** on each column won't be feasible.\n",
    "\n",
    "- so, We'll apply CCA on *columns whose missing values are < 5%*"
   ]
  },
  {
   "cell_type": "code",
   "execution_count": 8,
   "id": "8333ecde",
   "metadata": {},
   "outputs": [
    {
     "data": {
      "text/plain": [
       "['city_development_index',\n",
       " 'enrolled_university',\n",
       " 'education_level',\n",
       " 'experience',\n",
       " 'training_hours']"
      ]
     },
     "execution_count": 8,
     "metadata": {},
     "output_type": "execute_result"
    }
   ],
   "source": [
    "cols = [col for col in df.columns if df[col].isnull().mean() < 0.05 and df[col].isnull().mean() > 0]\n",
    "cols"
   ]
  },
  {
   "cell_type": "code",
   "execution_count": 9,
   "id": "6c163649",
   "metadata": {},
   "outputs": [
    {
     "data": {
      "text/plain": [
       "(17182, 5)"
      ]
     },
     "execution_count": 9,
     "metadata": {},
     "output_type": "execute_result"
    }
   ],
   "source": [
    "df[cols].dropna().shape  # After removing above columns, which contains missing percentage < 5%,  the shape is not significantly reduced."
   ]
  }
 ],
 "metadata": {
  "kernelspec": {
   "display_name": "venv",
   "language": "python",
   "name": "python3"
  },
  "language_info": {
   "codemirror_mode": {
    "name": "ipython",
    "version": 3
   },
   "file_extension": ".py",
   "mimetype": "text/x-python",
   "name": "python",
   "nbconvert_exporter": "python",
   "pygments_lexer": "ipython3",
   "version": "3.10.12"
  }
 },
 "nbformat": 4,
 "nbformat_minor": 5
}
