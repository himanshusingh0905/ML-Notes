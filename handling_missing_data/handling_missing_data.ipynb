{
 "cells": [
  {
   "cell_type": "markdown",
   "metadata": {},
   "source": [
    "# Handling missing data:\n",
    "\n",
    "\n",
    "#### Three mechanisms of missing data:  \n",
    "1. MCAR (MISSING COMPLETELY AT RANDOM)\n",
    "\n",
    "2. MAR (MISSING AT RANDOM)\n",
    "\n",
    "3. MNAR ( MISSINT NOT AT RANDOM)\n",
    "\n",
    "\n",
    "#### Observed and Un-observed data:\n",
    "1. **Observed data :** \n",
    "   - Data which is not missing, i.e. recorded data.\n",
    "\n",
    "2. **Un-observed data :**\n",
    "   - Data which is missing.   \n",
    "\n",
    "\n",
    "![green-divider](https://user-images.githubusercontent.com/7065401/52071924-c003ad80-2562-11e9-8297-1c6595f8a7ff.png)\n",
    "\n",
    "\n",
    "#### Rubin's Missing Data Mechanisms (1976)\n",
    "we have three variables (more generally sets of variables), (Y,X,Z), with Y and Z fully observed. and X being missing.\n",
    "\n",
    "##### Three Types of Missingness:\n",
    "\n",
    "1. **Missing Completely At Random (MCAR)**\n",
    "   - `P(R|X,Y,Z) = P(R)`: Missing probability independent of all variables, or chances of missingness are independent of all.\n",
    "\n",
    "   - Hence likelyhood of a value being missing is completely unrelated to **observed** and **unobserved** data.\n",
    "\n",
    "   - **Note** : likelyhood, chances and probability are synonyms of each other.\n",
    "\n",
    "2. **Missing At Random (MAR)**\n",
    "   - `P(R|X,Y,Z) = P(R|Y,Z)`: Missing probability depends only on observed variables Y,Z\n",
    "\n",
    "3. **Missing Not At Random (MNAR)**\n",
    "   - Missing probability depends on the unobserved value X itself\n",
    "\n",
    "#####\n",
    "**Summary Table**\n",
    "\n",
    "| Type | Missing Probability Depends On | Consequence |\n",
    "|------|--------------------------------|-------------|\n",
    "| MCAR | Nothing | Complete case analysis unbiased |\n",
    "| MAR | Observed variables only | Requires methods like multiple imputation |\n",
    "| MNAR | Unobserved values | Requires modeling the missing mechanism |\n",
    "\n",
    "*Note: R is binary Random variable, which is either 0 or 1, and indicates missingness. (R=1 if observed, R=0 if missing)*\n",
    "\n",
    "---\n"
   ]
  },
  {
   "cell_type": "markdown",
   "metadata": {},
   "source": [
    "![purple-divider](https://user-images.githubusercontent.com/7065401/52071927-c1cd7100-2562-11e9-908a-dde91ba14e59.png)"
   ]
  },
  {
   "cell_type": "markdown",
   "metadata": {},
   "source": [
    "# Handling Missing Values\n",
    "\n",
    "## Approaches to Missing Values\n",
    "- **Remove Values**\n",
    "  - Complete Case Analysis (CCA): Only analyze rows with no missing values in any column\n",
    "\n",
    "- **Impute**\n",
    "  - **Univariate**\n",
    "    - Numerical\n",
    "      - Mean/median\n",
    "      - Random value\n",
    "      - End of distribution\n",
    "    - Categorical\n",
    "      - Mode\n",
    "      - Missing (as category)\n",
    "  - **Multivariate**\n",
    "    - KNN imputer\n",
    "    - Iterative imputer\n",
    "\n",
    "## Topics we are going to study : \n",
    "1. **Remove values** \n",
    "\n",
    "2. **Simple Imputer**\n",
    "\n",
    "3. **KNN Imputer**\n",
    "\n",
    "4. **Iterative Imputer**\n",
    "\n",
    "5. **Missing Indicator**\n",
    "\n"
   ]
  },
  {
   "cell_type": "markdown",
   "metadata": {},
   "source": []
  },
  {
   "cell_type": "code",
   "execution_count": null,
   "metadata": {},
   "outputs": [],
   "source": []
  },
  {
   "cell_type": "markdown",
   "metadata": {},
   "source": [
    "![purple-divider](https://user-images.githubusercontent.com/7065401/52071927-c1cd7100-2562-11e9-908a-dde91ba14e59.png)"
   ]
  },
  {
   "cell_type": "markdown",
   "metadata": {},
   "source": [
    "# Techniques for Handling Missing Values\n",
    "\n",
    "To address the challenges posed by missing values, data scientists and analysts employ various techniques, including:\n",
    "\n",
    "1. **Deletion methods**: \n",
    "   - Removing rows or columns with missing data when the proportion of missingness is low.\n",
    "\n",
    "2. **Imputation**: \n",
    "   - Replacing missing values with statistical estimates, such as mean, median, mode, or predictions from machine learning models.\n",
    "\n",
    "3. **Advanced modeling**: \n",
    "   - Using algorithms designed to handle missing data, such as multiple imputation or matrix factorization.\n",
    "\n",
    "4. **Flagging missingness**: \n",
    "   - Creating additional features to indicate whether a value was missing, which can add predictive value to models."
   ]
  }
 ],
 "metadata": {
  "kernelspec": {
   "display_name": "venv",
   "language": "python",
   "name": "python3"
  },
  "language_info": {
   "codemirror_mode": {
    "name": "ipython",
    "version": 3
   },
   "file_extension": ".py",
   "mimetype": "text/x-python",
   "name": "python",
   "nbconvert_exporter": "python",
   "pygments_lexer": "ipython3",
   "version": "3.10.12"
  }
 },
 "nbformat": 4,
 "nbformat_minor": 2
}
