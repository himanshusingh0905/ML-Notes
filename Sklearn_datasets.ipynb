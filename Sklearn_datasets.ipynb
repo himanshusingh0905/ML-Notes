{
 "cells": [
  {
   "cell_type": "markdown",
   "id": "d2c0f5c2",
   "metadata": {},
   "source": [
    "## Synthetic classification Data:\n",
    "\n",
    "\n",
    "### make_classification() :\n",
    "- Used to generate a ***synthetic dataset*** for a classification problem.\n",
    "\n",
    "\n",
    "| Parameter                | Description                                                                                               |\n",
    "| ------------------------ | --------------------------------------------------------------------------------------------------------- |\n",
    "| `n_samples`          | Total number of rows or samples                                                                  |\n",
    "| `n_features`           | Number of total features (independent variables) or simply put, **Columns**.        |\n",
    "| `n_classes`            | Number of output classes                                                                                  |\n",
    "| `n_informative`        | Number of features that are actually useful to determine the class                                        |\n",
    "| `n_redundant`          | Number of features that are redundant (linear combinations of informative ones). We keep it 0 for clarity |\n",
    "| `random_state`        | Sets a seed for reproducibility (always generate the same data if run again)                              |\n",
    "| `n_clusters_per_class` | How many clusters per class (helps in making the visualization clean). Each class will have 1 cluster     |\n",
    "\n"
   ]
  },
  {
   "cell_type": "code",
   "execution_count": 2,
   "id": "1f3ac4a5",
   "metadata": {},
   "outputs": [
    {
     "name": "stdout",
     "output_type": "stream",
     "text": [
      "[[-1.26195146 -1.32136078  0.59928024]\n",
      " [ 0.27607749 -0.98437831  0.70803924]\n",
      " [-1.02050719  1.26658442 -1.05411861]\n",
      " [-2.00844646 -1.33470097  0.44750739]\n",
      " [ 1.38227184  0.49447882 -0.02852525]]\n",
      "[0 0 1 0 1]\n"
     ]
    }
   ],
   "source": [
    "from sklearn.datasets import make_classification\n",
    "\n",
    "X, y = make_classification(n_samples=5, \n",
    "                           n_features=3, \n",
    "                           n_redundant=1, \n",
    "                           n_informative=2,\n",
    "                           n_classes=2, \n",
    "                           random_state=42)\n",
    "\n",
    "print(X)\n",
    "print(y)\n",
    "\n"
   ]
  },
  {
   "cell_type": "code",
   "execution_count": 5,
   "id": "d80e4f9a",
   "metadata": {},
   "outputs": [
    {
     "name": "stdout",
     "output_type": "stream",
     "text": [
      "<enumerate object at 0x71057c2544c0>\n",
      "0  :  red\n",
      "1  :  blue\n"
     ]
    }
   ],
   "source": [
    "colors = ['red', 'blue']\n",
    "print(enumerate(colors))\n",
    "\n",
    "for i,j in enumerate(colors):\n",
    "    print(i, \" : \", j)"
   ]
  },
  {
   "cell_type": "code",
   "execution_count": null,
   "id": "f9550c8e",
   "metadata": {},
   "outputs": [],
   "source": []
  }
 ],
 "metadata": {
  "kernelspec": {
   "display_name": "venv",
   "language": "python",
   "name": "python3"
  },
  "language_info": {
   "codemirror_mode": {
    "name": "ipython",
    "version": 3
   },
   "file_extension": ".py",
   "mimetype": "text/x-python",
   "name": "python",
   "nbconvert_exporter": "python",
   "pygments_lexer": "ipython3",
   "version": "3.10.12"
  }
 },
 "nbformat": 4,
 "nbformat_minor": 5
}
