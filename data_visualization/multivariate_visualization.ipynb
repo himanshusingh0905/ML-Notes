{
 "cells": [
  {
   "cell_type": "markdown",
   "id": "4a7595e3",
   "metadata": {},
   "source": [
    "## 3. Multivariate Analysis\n",
    "\n",
    "### Definition\n",
    "**Examines relationships among three or more variables simultaneously.**\n",
    "\n",
    "### Purpose\n",
    "- Uncover complex relationships and interactions\n",
    "- Reduce dimensionality of data\n",
    "- Identify groups/patterns across multiple variables\n",
    "- Build predictive models with multiple predictors\n",
    "- Control for confounding variables\n",
    "\n",
    "### Common Techniques\n",
    "\n",
    "#### Statistical Methods\n",
    "- **Multiple Regression**: Extends linear regression to multiple predictors\n",
    "- **MANOVA**: Multivariate analysis of variance\n",
    "- **Factor Analysis**: Reduces variables to underlying factors\n",
    "- **Principal Component Analysis (PCA)**: Reduces dimensionality\n",
    "- **Cluster Analysis**: Identifies natural groupings (K-means, hierarchical)\n",
    "- **Discriminant Analysis**: Classifies observations into groups\n",
    "- **Structural Equation Modeling (SEM)**: Tests complex relational hypotheses\n",
    "\n",
    "#### Visualizations\n",
    "- **Pair Plots**: Matrix of scatter plots for all variable combinations\n",
    "- **3D Scatter Plot**: Shows relationship among three variables\n",
    "- **Heat Maps**: Visualizes correlation matrices\n",
    "- **Parallel Coordinates Plot**: Shows multivariate patterns\n",
    "- **Bubble Charts**: Scatter plots with a third dimension as bubble size\n",
    "- **Radar/Spider Charts**: Compares multiple variables across categories\n"
   ]
  },
  {
   "cell_type": "markdown",
   "id": "66b903ad",
   "metadata": {},
   "source": [
    "![green-divider](https://user-images.githubusercontent.com/7065401/52071924-c003ad80-2562-11e9-8297-1c6595f8a7ff.png)"
   ]
  },
  {
   "cell_type": "code",
   "execution_count": 1,
   "id": "feaf8ca4",
   "metadata": {},
   "outputs": [],
   "source": [
    "import numpy as np\n",
    "import pandas as pd\n",
    "import matplotlib.pyplot as plt\n",
    "import seaborn as sns\n",
    "\n",
    "sns.set_style(\"white\")\n",
    "# plt.rcParams['figure.figsize'] = (20, 6)"
   ]
  },
  {
   "cell_type": "code",
   "execution_count": 2,
   "id": "11f9ffdc",
   "metadata": {},
   "outputs": [],
   "source": [
    "df = pd.read_csv('datasets/Titanic-Dataset.csv')\n",
    "df = df.drop('Cabin', axis=1) # droping Cabin column"
   ]
  },
  {
   "cell_type": "code",
   "execution_count": 3,
   "id": "92847ba6",
   "metadata": {},
   "outputs": [
    {
     "name": "stdout",
     "output_type": "stream",
     "text": [
      "<class 'pandas.core.frame.DataFrame'>\n",
      "RangeIndex: 891 entries, 0 to 890\n",
      "Data columns (total 11 columns):\n",
      " #   Column       Non-Null Count  Dtype  \n",
      "---  ------       --------------  -----  \n",
      " 0   PassengerId  891 non-null    int64  \n",
      " 1   Survived     891 non-null    int64  \n",
      " 2   Pclass       891 non-null    int64  \n",
      " 3   Name         891 non-null    object \n",
      " 4   Sex          891 non-null    object \n",
      " 5   Age          714 non-null    float64\n",
      " 6   SibSp        891 non-null    int64  \n",
      " 7   Parch        891 non-null    int64  \n",
      " 8   Ticket       891 non-null    object \n",
      " 9   Fare         891 non-null    float64\n",
      " 10  Embarked     889 non-null    object \n",
      "dtypes: float64(2), int64(5), object(4)\n",
      "memory usage: 76.7+ KB\n"
     ]
    }
   ],
   "source": [
    "# Let's see all variables we have first, so that we can decide which relationship has meaning.\n",
    "df.info()"
   ]
  },
  {
   "cell_type": "markdown",
   "id": "c909f438",
   "metadata": {},
   "source": [
    "![purple-divider](https://user-images.githubusercontent.com/7065401/52071927-c1cd7100-2562-11e9-908a-dde91ba14e59.png)"
   ]
  },
  {
   "cell_type": "markdown",
   "id": "6764674e",
   "metadata": {},
   "source": [
    "\n",
    "## Comparison of Analysis Types\n",
    "\n",
    "| Feature | Univariate | Bivariate | Multivariate |\n",
    "|---------|-----------|-----------|--------------|\n",
    "| **Variables** | One | Two | Three or more |\n",
    "| **Focus** | Distribution, central tendency | Relationships, correlations | Complex interactions, patterns |\n",
    "| **Key Questions** | \"What is the distribution?\" | \"Are these variables related?\" | \"How do multiple factors interact?\" |\n",
    "| **Common Tools** | Histograms, box plots | Scatter plots, correlation | PCA, multiple regression |\n",
    "| **Complexity** | Low | Medium | High |\n",
    "| **Insight Depth** | Basic descriptions | Relationships | System understanding |\n",
    "\n",
    "## When to Use Each Analysis Type\n",
    "\n",
    "### Univariate Analysis\n",
    "- **Best for**: Initial data exploration\n",
    "- **When you need to**: Understand the basic properties of a variable\n",
    "- **Before proceeding to**: More complex analyses\n",
    "\n",
    "### Bivariate Analysis\n",
    "- **Best for**: Testing simple hypotheses about relationships\n",
    "- **When you need to**: Establish if two variables are related\n",
    "- **Before proceeding to**: Building predictive models\n",
    "\n",
    "### Multivariate Analysis\n",
    "- **Best for**: Building predictive models, uncovering complex patterns\n",
    "- **When you need to**: Understand how multiple variables interact\n",
    "- **After completing**: Univariate and bivariate analyses\n"
   ]
  }
 ],
 "metadata": {
  "kernelspec": {
   "display_name": "venv",
   "language": "python",
   "name": "python3"
  },
  "language_info": {
   "codemirror_mode": {
    "name": "ipython",
    "version": 3
   },
   "file_extension": ".py",
   "mimetype": "text/x-python",
   "name": "python",
   "nbconvert_exporter": "python",
   "pygments_lexer": "ipython3",
   "version": "3.10.12"
  }
 },
 "nbformat": 4,
 "nbformat_minor": 5
}
