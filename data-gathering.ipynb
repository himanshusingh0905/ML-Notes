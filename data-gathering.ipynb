{
 "cells": [
  {
   "cell_type": "markdown",
   "id": "927e99f2",
   "metadata": {},
   "source": [
    "<h1 style='color:orange'>DATA GATHERING:</h1><br>\n",
    "<i><p style=\"font-size:16px\">To create a model and work on that, the first thing we need is <b>DATA.</b><br>\n",
    "But, How do we get that data?</p></i>\n",
    "\n",
    "<i><h2 style=\"color:green\">There are various ways of doing that:</h2>\n",
    "   <p style=\"font-size:16px; color:blue;\">1. From csv Files<br>\n",
    "    2. Json/SQL files<br>\n",
    "    3. Fetch data from API<br>\n",
    "    4. Web-Scrapping\n",
    "    </p></i><br>\n",
    "    <p style=\"font-size:16px\">We are going to study all these methods below:</p>\n",
    "    "
   ]
  },
  {
   "cell_type": "code",
   "execution_count": 4,
   "id": "79c3142b",
   "metadata": {},
   "outputs": [],
   "source": [
    "import pandas as pd"
   ]
  },
  {
   "cell_type": "markdown",
   "id": "d7a60477",
   "metadata": {},
   "source": [
    "<h2 style=\"color:rgb(144, 238, 144)\">1. From CSV Files: </h2><br>\n",
    "<p style=\"font-size:16px\">CSV = Comma Separated Files:<br>\n",
    " These files can be uploaded from local storage by just providing the path of that file in <b>read_csv()</b> function.</p>\n",
    " <p style=\"font-size:16px\"> Below we're going to study some important <i>PARAMETERS</i> of read_csv() function: </p>"
   ]
  },
  {
   "cell_type": "code",
   "execution_count": null,
   "id": "ada22835",
   "metadata": {},
   "outputs": [],
   "source": []
  },
  {
   "cell_type": "code",
   "execution_count": null,
   "id": "29fb6eb5",
   "metadata": {},
   "outputs": [],
   "source": []
  },
  {
   "cell_type": "code",
   "execution_count": null,
   "id": "f638a0bc",
   "metadata": {},
   "outputs": [],
   "source": []
  },
  {
   "cell_type": "code",
   "execution_count": null,
   "id": "22a5ef23",
   "metadata": {},
   "outputs": [],
   "source": []
  },
  {
   "cell_type": "code",
   "execution_count": null,
   "id": "ed6d4443",
   "metadata": {},
   "outputs": [],
   "source": []
  },
  {
   "cell_type": "code",
   "execution_count": null,
   "id": "1e2a2923",
   "metadata": {},
   "outputs": [],
   "source": []
  },
  {
   "cell_type": "markdown",
   "id": "79007985",
   "metadata": {},
   "source": [
    "<h2 style=\"color:rgb(144, 238, 144)\">2. From Json/SQL format:  </h2>"
   ]
  },
  {
   "cell_type": "code",
   "execution_count": null,
   "id": "55e06cf4",
   "metadata": {},
   "outputs": [],
   "source": []
  },
  {
   "cell_type": "code",
   "execution_count": null,
   "id": "6763b893",
   "metadata": {},
   "outputs": [],
   "source": []
  },
  {
   "cell_type": "code",
   "execution_count": null,
   "id": "0a866f53",
   "metadata": {},
   "outputs": [],
   "source": []
  },
  {
   "cell_type": "markdown",
   "id": "63c50d6c",
   "metadata": {},
   "source": [
    "<h2 style=\"color:rgb(144, 238, 144)\">3. Fetch data from API: </h2>"
   ]
  },
  {
   "cell_type": "code",
   "execution_count": null,
   "id": "05bedfba",
   "metadata": {},
   "outputs": [],
   "source": []
  },
  {
   "cell_type": "code",
   "execution_count": null,
   "id": "45a63963",
   "metadata": {},
   "outputs": [],
   "source": []
  },
  {
   "cell_type": "code",
   "execution_count": null,
   "id": "d5492937",
   "metadata": {},
   "outputs": [],
   "source": []
  },
  {
   "cell_type": "markdown",
   "id": "c3d7fcc6",
   "metadata": {},
   "source": [
    "<h2 style=\"color:rgb(144, 238, 144)\">4. From Web-Scrapping: </h2>"
   ]
  },
  {
   "cell_type": "code",
   "execution_count": null,
   "id": "419a33c6",
   "metadata": {},
   "outputs": [],
   "source": []
  },
  {
   "cell_type": "code",
   "execution_count": null,
   "id": "ab42b14a",
   "metadata": {},
   "outputs": [],
   "source": []
  },
  {
   "cell_type": "code",
   "execution_count": null,
   "id": "55065814",
   "metadata": {},
   "outputs": [],
   "source": []
  },
  {
   "cell_type": "code",
   "execution_count": null,
   "id": "69f14d6b",
   "metadata": {},
   "outputs": [],
   "source": []
  }
 ],
 "metadata": {
  "kernelspec": {
   "display_name": "Python 3 (ipykernel)",
   "language": "python",
   "name": "python3"
  },
  "language_info": {
   "codemirror_mode": {
    "name": "ipython",
    "version": 3
   },
   "file_extension": ".py",
   "mimetype": "text/x-python",
   "name": "python",
   "nbconvert_exporter": "python",
   "pygments_lexer": "ipython3",
   "version": "3.11.7"
  }
 },
 "nbformat": 4,
 "nbformat_minor": 5
}
