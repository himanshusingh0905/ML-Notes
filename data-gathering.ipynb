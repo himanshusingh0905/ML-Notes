{
 "cells": [
  {
   "cell_type": "markdown",
   "id": "927e99f2",
   "metadata": {},
   "source": [
    "<h1 style='color:rgb(255, 95, 31)'>DATA GATHERING:</h1><br>\n",
    "<i style=\"font-size:16px\">To create a model and work on that, the first thing we need is <b>DATA.</b><br>\n",
    "But, How do we get that data?</i>\n",
    "\n",
    "<h2 style=\"color:rgb(100, 149, 237)\">There are various ways of doing that:</h2>\n",
    "   <p style=\"font-size:16px;\">1. From csv Files<br>\n",
    "    2. Json/SQL files<br>\n",
    "    3. Fetch data from API<br>\n",
    "    4. Web-Scrapping\n",
    "    </p>\n",
    "    <p style=\"font-size:16px\">We are going to study all these methods below:</p>\n",
    "    "
   ]
  },
  {
   "cell_type": "code",
   "execution_count": 20,
   "id": "79c3142b",
   "metadata": {},
   "outputs": [],
   "source": [
    "import pandas as pd"
   ]
  },
  {
   "cell_type": "markdown",
   "id": "46e37778",
   "metadata": {},
   "source": [
    "<h2 style=\"color:rgb(50, 205, 50)\">1. From CSV Files: </h2>\n",
    "<p style=\"font-size:16px\">CSV = Comma Separated Files:<br>\n",
    " These files can be uploaded from local storage by just providing the path of that file in <b>read_csv()</b> function.</p>\n",
    " <p style=\"font-size:16px\"> Below we're going to study some important <span style=\"color:rgb(207, 159, 255)\">PARAMETERS</span> of <span style=\"color:rgb(207, 159, 255)\">read_csv()</span> function: </p>"
   ]
  },
  {
   "cell_type": "markdown",
   "id": "a8270c1b",
   "metadata": {},
   "source": [
    "##  (i) Opening a local csv file"
   ]
  },
  {
   "cell_type": "code",
   "execution_count": 15,
   "id": "992cce59",
   "metadata": {},
   "outputs": [
    {
     "data": {
      "text/plain": [
       "pandas.core.frame.DataFrame"
      ]
     },
     "execution_count": 15,
     "metadata": {},
     "output_type": "execute_result"
    }
   ],
   "source": [
    "df = pd.read_csv(\"datasets/aug_train.csv\")\n",
    "# describe():\n",
    "stats = df.describe()\n",
    "# lets see what describe() returns, as it turns out, it returns a dataframe.\n",
    "type(stats)"
   ]
  },
  {
   "cell_type": "code",
   "execution_count": 16,
   "id": "5d700037",
   "metadata": {},
   "outputs": [
    {
     "data": {
      "text/html": [
       "<div>\n",
       "<style scoped>\n",
       "    .dataframe tbody tr th:only-of-type {\n",
       "        vertical-align: middle;\n",
       "    }\n",
       "\n",
       "    .dataframe tbody tr th {\n",
       "        vertical-align: top;\n",
       "    }\n",
       "\n",
       "    .dataframe thead th {\n",
       "        text-align: right;\n",
       "    }\n",
       "</style>\n",
       "<table border=\"1\" class=\"dataframe\">\n",
       "  <thead>\n",
       "    <tr style=\"text-align: right;\">\n",
       "      <th></th>\n",
       "      <th>enrollee_id</th>\n",
       "      <th>city_development_index</th>\n",
       "      <th>training_hours</th>\n",
       "      <th>target</th>\n",
       "    </tr>\n",
       "  </thead>\n",
       "  <tbody>\n",
       "    <tr>\n",
       "      <th>count</th>\n",
       "      <td>19158.000000</td>\n",
       "      <td>19158.000000</td>\n",
       "      <td>19158.000000</td>\n",
       "      <td>19158.000000</td>\n",
       "    </tr>\n",
       "    <tr>\n",
       "      <th>mean</th>\n",
       "      <td>16875.358179</td>\n",
       "      <td>0.828848</td>\n",
       "      <td>65.366896</td>\n",
       "      <td>0.249348</td>\n",
       "    </tr>\n",
       "    <tr>\n",
       "      <th>std</th>\n",
       "      <td>9616.292592</td>\n",
       "      <td>0.123362</td>\n",
       "      <td>60.058462</td>\n",
       "      <td>0.432647</td>\n",
       "    </tr>\n",
       "    <tr>\n",
       "      <th>min</th>\n",
       "      <td>1.000000</td>\n",
       "      <td>0.448000</td>\n",
       "      <td>1.000000</td>\n",
       "      <td>0.000000</td>\n",
       "    </tr>\n",
       "    <tr>\n",
       "      <th>25%</th>\n",
       "      <td>8554.250000</td>\n",
       "      <td>0.740000</td>\n",
       "      <td>23.000000</td>\n",
       "      <td>0.000000</td>\n",
       "    </tr>\n",
       "    <tr>\n",
       "      <th>50%</th>\n",
       "      <td>16982.500000</td>\n",
       "      <td>0.903000</td>\n",
       "      <td>47.000000</td>\n",
       "      <td>0.000000</td>\n",
       "    </tr>\n",
       "    <tr>\n",
       "      <th>75%</th>\n",
       "      <td>25169.750000</td>\n",
       "      <td>0.920000</td>\n",
       "      <td>88.000000</td>\n",
       "      <td>0.000000</td>\n",
       "    </tr>\n",
       "    <tr>\n",
       "      <th>max</th>\n",
       "      <td>33380.000000</td>\n",
       "      <td>0.949000</td>\n",
       "      <td>336.000000</td>\n",
       "      <td>1.000000</td>\n",
       "    </tr>\n",
       "  </tbody>\n",
       "</table>\n",
       "</div>"
      ],
      "text/plain": [
       "        enrollee_id  city_development_index  training_hours        target\n",
       "count  19158.000000            19158.000000    19158.000000  19158.000000\n",
       "mean   16875.358179                0.828848       65.366896      0.249348\n",
       "std     9616.292592                0.123362       60.058462      0.432647\n",
       "min        1.000000                0.448000        1.000000      0.000000\n",
       "25%     8554.250000                0.740000       23.000000      0.000000\n",
       "50%    16982.500000                0.903000       47.000000      0.000000\n",
       "75%    25169.750000                0.920000       88.000000      0.000000\n",
       "max    33380.000000                0.949000      336.000000      1.000000"
      ]
     },
     "execution_count": 16,
     "metadata": {},
     "output_type": "execute_result"
    }
   ],
   "source": [
    "stats"
   ]
  },
  {
   "cell_type": "markdown",
   "id": "6e8a08a8",
   "metadata": {},
   "source": [
    "<hr style=\"margin-bottom: 50px;\"> \n",
    "<span style=\"color:rgb(0, 255, 255);font-weight:bold; font-size:25px\"> describe():</span>\n",
    "<ul style=\"list-style-type:square\">\n",
    "  <li>function provides descriptive statistics about the numerical columns in the DataFrame.</li>\n",
    "  <li>Returns a DataFrame containing these statistics.</li>\n",
    "</ul>\n",
    "<span style=\"font-size:18px\">It tells 7 things, decribed below:</span><br>\n",
    "1. <b style=\"text-decoration:underline\">Count:</b>  Number of non-null values in each column.<br>\n",
    "2. <b style=\"text-decoration:underline\">Mean:</b>  Mean (average) value of each column.<br>\n",
    "3. <b style=\"text-decoration:underline\">Std:</b>  Standard deviation, which measures the dispersion or spread of the values in each column.<br>\n",
    "3. <b style=\"text-decoration:underline\">Min:</b>  Minimum value in each column.<br>\n",
    "4. <b style=\"text-decoration:underline\">25% (Percentile):</b>  Value below which 25% of the data falls (first quartile or 25th percentile).<br>\n",
    "5. <b style=\"text-decoration:underline\">50% (Percentile):</b>  Median value, which is the middle value when the data is sorted in ascending order (second quartile or 50th percentile).<br>\n",
    "6. <b style=\"text-decoration:underline\">75% (Percentile):</b>  Value below which 75% of the data falls (third quartile or 75th percentile).<br>\n",
    "7. <b style=\"text-decoration:underline\">Max:</b>  Maximum value in each column.<br><br>\n",
    " \n",
    "![purple-divider](https://user-images.githubusercontent.com/7065401/52071927-c1cd7100-2562-11e9-908a-dde91ba14e59.png)\n",
    "<p style=\"font-size:17px;\">When you are dealing with csv files or any case <span style=\"color:rgb(207, 159, 255)\">read_csv()</span> is very important. you know there are total about 50 parameters of it.<br>But we are going to study around 15 or 16 important parameters of it.</p>\n"
   ]
  },
  {
   "cell_type": "markdown",
   "id": "ce73f8d1",
   "metadata": {},
   "source": [
    "## (ii) Opening a csv file from an URL or server:"
   ]
  },
  {
   "cell_type": "code",
   "execution_count": 45,
   "id": "11da46a4",
   "metadata": {},
   "outputs": [
    {
     "name": "stdout",
     "output_type": "stream",
     "text": [
      "<_io.StringIO object at 0x000001761325BBE0>\n"
     ]
    }
   ],
   "source": [
    "# The requests library is used for making HTTP requests\n",
    "import requests\n",
    "# 'StringIO' from 'io' is used to read and write text data in memory.\n",
    "from io import StringIO\n",
    "\n",
    "# URL from where we are requesting a csv file\n",
    "url = \"https://raw.githubusercontent.com/cs109/2014_data/master/countries.csv\"\n",
    "\n",
    "# the headers (which include user-agent information) are defined.\n",
    "# User-Agent: basically it's your browser, so To find this string: type 'about:version' in your browser. you'll find the same.\n",
    "headers = {\"User-Agent\": \"Mozilla/5.0 (Windows NT 10.0; Win64; x64) AppleWebKit/537.36 (KHTML, like Gecko) Chrome/122.0.0.0 Safari/537.36\"}\n",
    "\n",
    "# An HTTP GET request is made to the URL with the defined headers.\n",
    "req = requests.get(url, headers=headers) # If I directly prints it, It shows '<Response [200]>' as output.\n",
    "\n",
    "# The text data from the response is converted into an 'in-memory text stream' using StringIO\n",
    "data = StringIO(req.text)\n",
    "\n",
    "# the OUTPUT tells that,this variable is an object of the StringIO class. and stored at given memory address\n",
    "print(data)"
   ]
  },
  {
   "cell_type": "code",
   "execution_count": 37,
   "id": "69cfbd5a",
   "metadata": {},
   "outputs": [
    {
     "data": {
      "text/html": [
       "<div>\n",
       "<style scoped>\n",
       "    .dataframe tbody tr th:only-of-type {\n",
       "        vertical-align: middle;\n",
       "    }\n",
       "\n",
       "    .dataframe tbody tr th {\n",
       "        vertical-align: top;\n",
       "    }\n",
       "\n",
       "    .dataframe thead th {\n",
       "        text-align: right;\n",
       "    }\n",
       "</style>\n",
       "<table border=\"1\" class=\"dataframe\">\n",
       "  <thead>\n",
       "    <tr style=\"text-align: right;\">\n",
       "      <th></th>\n",
       "      <th>Country</th>\n",
       "      <th>Region</th>\n",
       "    </tr>\n",
       "  </thead>\n",
       "  <tbody>\n",
       "    <tr>\n",
       "      <th>0</th>\n",
       "      <td>Algeria</td>\n",
       "      <td>AFRICA</td>\n",
       "    </tr>\n",
       "    <tr>\n",
       "      <th>1</th>\n",
       "      <td>Angola</td>\n",
       "      <td>AFRICA</td>\n",
       "    </tr>\n",
       "    <tr>\n",
       "      <th>2</th>\n",
       "      <td>Benin</td>\n",
       "      <td>AFRICA</td>\n",
       "    </tr>\n",
       "    <tr>\n",
       "      <th>3</th>\n",
       "      <td>Botswana</td>\n",
       "      <td>AFRICA</td>\n",
       "    </tr>\n",
       "    <tr>\n",
       "      <th>4</th>\n",
       "      <td>Burkina</td>\n",
       "      <td>AFRICA</td>\n",
       "    </tr>\n",
       "    <tr>\n",
       "      <th>...</th>\n",
       "      <td>...</td>\n",
       "      <td>...</td>\n",
       "    </tr>\n",
       "    <tr>\n",
       "      <th>189</th>\n",
       "      <td>Paraguay</td>\n",
       "      <td>SOUTH AMERICA</td>\n",
       "    </tr>\n",
       "    <tr>\n",
       "      <th>190</th>\n",
       "      <td>Peru</td>\n",
       "      <td>SOUTH AMERICA</td>\n",
       "    </tr>\n",
       "    <tr>\n",
       "      <th>191</th>\n",
       "      <td>Suriname</td>\n",
       "      <td>SOUTH AMERICA</td>\n",
       "    </tr>\n",
       "    <tr>\n",
       "      <th>192</th>\n",
       "      <td>Uruguay</td>\n",
       "      <td>SOUTH AMERICA</td>\n",
       "    </tr>\n",
       "    <tr>\n",
       "      <th>193</th>\n",
       "      <td>Venezuela</td>\n",
       "      <td>SOUTH AMERICA</td>\n",
       "    </tr>\n",
       "  </tbody>\n",
       "</table>\n",
       "<p>194 rows × 2 columns</p>\n",
       "</div>"
      ],
      "text/plain": [
       "       Country         Region\n",
       "0      Algeria         AFRICA\n",
       "1       Angola         AFRICA\n",
       "2        Benin         AFRICA\n",
       "3     Botswana         AFRICA\n",
       "4      Burkina         AFRICA\n",
       "..         ...            ...\n",
       "189   Paraguay  SOUTH AMERICA\n",
       "190       Peru  SOUTH AMERICA\n",
       "191   Suriname  SOUTH AMERICA\n",
       "192    Uruguay  SOUTH AMERICA\n",
       "193  Venezuela  SOUTH AMERICA\n",
       "\n",
       "[194 rows x 2 columns]"
      ]
     },
     "execution_count": 37,
     "metadata": {},
     "output_type": "execute_result"
    }
   ],
   "source": [
    "pd.read_csv(data)"
   ]
  },
  {
   "cell_type": "markdown",
   "id": "8c60c800",
   "metadata": {},
   "source": [
    "\n",
    "<h3 style=\"color:rgb(100, 149, 237)\">We could do the same with just, but may be It won't work in case http request-response server. I am not sure at this point.</h3>"
   ]
  },
  {
   "cell_type": "code",
   "execution_count": 1,
   "id": "0e85bbb1",
   "metadata": {},
   "outputs": [
    {
     "data": {
      "text/html": [
       "<div>\n",
       "<style scoped>\n",
       "    .dataframe tbody tr th:only-of-type {\n",
       "        vertical-align: middle;\n",
       "    }\n",
       "\n",
       "    .dataframe tbody tr th {\n",
       "        vertical-align: top;\n",
       "    }\n",
       "\n",
       "    .dataframe thead th {\n",
       "        text-align: right;\n",
       "    }\n",
       "</style>\n",
       "<table border=\"1\" class=\"dataframe\">\n",
       "  <thead>\n",
       "    <tr style=\"text-align: right;\">\n",
       "      <th></th>\n",
       "      <th>Country</th>\n",
       "      <th>Region</th>\n",
       "    </tr>\n",
       "  </thead>\n",
       "  <tbody>\n",
       "    <tr>\n",
       "      <th>0</th>\n",
       "      <td>Algeria</td>\n",
       "      <td>AFRICA</td>\n",
       "    </tr>\n",
       "    <tr>\n",
       "      <th>1</th>\n",
       "      <td>Angola</td>\n",
       "      <td>AFRICA</td>\n",
       "    </tr>\n",
       "    <tr>\n",
       "      <th>2</th>\n",
       "      <td>Benin</td>\n",
       "      <td>AFRICA</td>\n",
       "    </tr>\n",
       "    <tr>\n",
       "      <th>3</th>\n",
       "      <td>Botswana</td>\n",
       "      <td>AFRICA</td>\n",
       "    </tr>\n",
       "    <tr>\n",
       "      <th>4</th>\n",
       "      <td>Burkina</td>\n",
       "      <td>AFRICA</td>\n",
       "    </tr>\n",
       "    <tr>\n",
       "      <th>...</th>\n",
       "      <td>...</td>\n",
       "      <td>...</td>\n",
       "    </tr>\n",
       "    <tr>\n",
       "      <th>189</th>\n",
       "      <td>Paraguay</td>\n",
       "      <td>SOUTH AMERICA</td>\n",
       "    </tr>\n",
       "    <tr>\n",
       "      <th>190</th>\n",
       "      <td>Peru</td>\n",
       "      <td>SOUTH AMERICA</td>\n",
       "    </tr>\n",
       "    <tr>\n",
       "      <th>191</th>\n",
       "      <td>Suriname</td>\n",
       "      <td>SOUTH AMERICA</td>\n",
       "    </tr>\n",
       "    <tr>\n",
       "      <th>192</th>\n",
       "      <td>Uruguay</td>\n",
       "      <td>SOUTH AMERICA</td>\n",
       "    </tr>\n",
       "    <tr>\n",
       "      <th>193</th>\n",
       "      <td>Venezuela</td>\n",
       "      <td>SOUTH AMERICA</td>\n",
       "    </tr>\n",
       "  </tbody>\n",
       "</table>\n",
       "<p>194 rows × 2 columns</p>\n",
       "</div>"
      ],
      "text/plain": [
       "       Country         Region\n",
       "0      Algeria         AFRICA\n",
       "1       Angola         AFRICA\n",
       "2        Benin         AFRICA\n",
       "3     Botswana         AFRICA\n",
       "4      Burkina         AFRICA\n",
       "..         ...            ...\n",
       "189   Paraguay  SOUTH AMERICA\n",
       "190       Peru  SOUTH AMERICA\n",
       "191   Suriname  SOUTH AMERICA\n",
       "192    Uruguay  SOUTH AMERICA\n",
       "193  Venezuela  SOUTH AMERICA\n",
       "\n",
       "[194 rows x 2 columns]"
      ]
     },
     "execution_count": 1,
     "metadata": {},
     "output_type": "execute_result"
    }
   ],
   "source": [
    "import pandas as pd\n",
    "\n",
    "# URL of the CSV file\n",
    "url = \"https://raw.githubusercontent.com/cs109/2014_data/master/countries.csv\"\n",
    "\n",
    "# Read the CSV file from the URL\n",
    "df = pd.read_csv(url)\n",
    "df"
   ]
  },
  {
   "cell_type": "markdown",
   "id": "a3de7a5e",
   "metadata": {},
   "source": [
    "<hr style=\"margin-bottom: 50px;\"> \n",
    "<span style=\"color:rgb(100, 149, 237);font-weight:bold; font-size:20px\"># Additional Notes: Let's go over these 2 lines again:</span>\n"
   ]
  },
  {
   "cell_type": "code",
   "execution_count": null,
   "id": "713005f9",
   "metadata": {},
   "outputs": [],
   "source": [
    "req = requests.get(url, headers=headers) \n",
    "data = StringIO(req.text)"
   ]
  },
  {
   "cell_type": "markdown",
   "id": "0de89d4a",
   "metadata": {},
   "source": [
    "\n",
    "<span style=\"color:rgb(0, 255, 255);font-weight:bold; font-size:18px\">requests.get(url) :</span><br>\n",
    "* This function sends an HTTP GET request to the specified URL and <i>returns a Response object </i>. \n",
    "* This <i>Response object</i> contains the server’s response to your request.\n",
    "\n",
    "Here are some of the attributes of the <i>Response object</i> that you can access:\n",
    "\n",
    "* <span style=\"color:rgb(207, 159, 255)\">read_csv()</span>status_code: This attribute contains the HTTP status code that the server returned. For example, 200 means the request was successful, while 404 means the requested URL was not found on the server.\n",
    "\n",
    "* <span style=\"color:rgb(207, 159, 255)\">read_csv()</span>text: This attribute contains the text of the response’s content. You can use this to read the content of the file at the URL (like the CSV file in your code).\n",
    "* <span style=\"color:rgb(207, 159, 255)\">read_csv()</span>headers: This attribute is a dictionary containing the response headers. These headers can give you information about the server and the file you requested.\n",
    "* url: This attribute contains the URL of the response.\n",
    "* content: This attribute contains the content of the response in bytes. This is useful if you’re downloading a non-text file like an image or a PDF.\n",
    "* json(): This method returns the JSON response body, if any, as a Python dictionary."
   ]
  },
  {
   "cell_type": "markdown",
   "id": "7fee8f5b",
   "metadata": {},
   "source": [
    "<h2 style=\"color:rgb(50, 205, 50)\"> 2. From Json or SQL format :</h2>"
   ]
  },
  {
   "cell_type": "markdown",
   "id": "2172efad",
   "metadata": {},
   "source": [
    "![green-divider](https://user-images.githubusercontent.com/7065401/52071924-c003ad80-2562-11e9-8297-1c6595f8a7ff.png)\n"
   ]
  },
  {
   "cell_type": "markdown",
   "id": "99a1ea3d",
   "metadata": {},
   "source": []
  },
  {
   "cell_type": "code",
   "execution_count": null,
   "id": "4af0c5b7",
   "metadata": {},
   "outputs": [],
   "source": []
  },
  {
   "cell_type": "markdown",
   "id": "d8a9b8cb",
   "metadata": {},
   "source": [
    "<h2 style=\"color:rgb(50, 205, 50)\">3. Fetch data from API: </h2>"
   ]
  },
  {
   "cell_type": "code",
   "execution_count": null,
   "id": "b1890d03",
   "metadata": {},
   "outputs": [],
   "source": []
  },
  {
   "cell_type": "code",
   "execution_count": null,
   "id": "885e34c1",
   "metadata": {},
   "outputs": [],
   "source": []
  },
  {
   "cell_type": "code",
   "execution_count": null,
   "id": "42b355c5",
   "metadata": {},
   "outputs": [],
   "source": []
  },
  {
   "cell_type": "markdown",
   "id": "7c3eca37",
   "metadata": {},
   "source": [
    "<h2 style=\"color:rgb(50, 205, 50)\">4. From Web-Scrapping: </h2>"
   ]
  },
  {
   "cell_type": "code",
   "execution_count": null,
   "id": "603f4f52",
   "metadata": {},
   "outputs": [],
   "source": []
  },
  {
   "cell_type": "code",
   "execution_count": null,
   "id": "5674e1cf",
   "metadata": {},
   "outputs": [],
   "source": []
  },
  {
   "cell_type": "code",
   "execution_count": null,
   "id": "5218fd9a",
   "metadata": {},
   "outputs": [],
   "source": []
  },
  {
   "cell_type": "code",
   "execution_count": null,
   "id": "ed438f22",
   "metadata": {},
   "outputs": [],
   "source": []
  }
 ],
 "metadata": {
  "kernelspec": {
   "display_name": "Python 3 (ipykernel)",
   "language": "python",
   "name": "python3"
  },
  "language_info": {
   "codemirror_mode": {
    "name": "ipython",
    "version": 3
   },
   "file_extension": ".py",
   "mimetype": "text/x-python",
   "name": "python",
   "nbconvert_exporter": "python",
   "pygments_lexer": "ipython3",
   "version": "3.11.7"
  }
 },
 "nbformat": 4,
 "nbformat_minor": 5
}
