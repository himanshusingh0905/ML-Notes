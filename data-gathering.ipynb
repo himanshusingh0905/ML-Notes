{
 "cells": [
  {
   "cell_type": "markdown",
   "id": "927e99f2",
   "metadata": {},
   "source": [
    "<h1 style='color:orange'>DATA GATHERING:</h1><br>\n",
    "<i style=\"font-size:16px\">To create a model and work on that, the first thing we need is <b>DATA.</b><br>\n",
    "But, How do we get that data?</i>\n",
    "\n",
    "<h2 style=\"color:green\">There are various ways of doing that:</h2>\n",
    "   <p style=\"font-size:16px; color:blue;\">1. From csv Files<br>\n",
    "    2. Json/SQL files<br>\n",
    "    3. Fetch data from API<br>\n",
    "    4. Web-Scrapping\n",
    "    </p>\n",
    "    <p style=\"font-size:16px\">We are going to study all these methods below:</p>\n",
    "    "
   ]
  },
  {
   "cell_type": "code",
   "execution_count": 4,
   "id": "79c3142b",
   "metadata": {},
   "outputs": [],
   "source": [
    "import pandas as pd"
   ]
  },
  {
   "cell_type": "markdown",
   "id": "f528873a",
   "metadata": {},
   "source": [
    "<h2 style=\"color:rgb(144, 238, 144)\">1. From CSV Files: </h2>\n",
    "<p style=\"font-size:16px\">CSV = Comma Separated Files:<br>\n",
    " These files can be uploaded from local storage by just providing the path of that file in <b>read_csv()</b> function.</p>\n",
    " <p style=\"font-size:16px\"> Below we're going to study some important <i>PARAMETERS</i> of read_csv() function: </p>"
   ]
  },
  {
   "cell_type": "code",
   "execution_count": 15,
   "id": "08d36a80",
   "metadata": {},
   "outputs": [
    {
     "data": {
      "text/plain": [
       "pandas.core.frame.DataFrame"
      ]
     },
     "execution_count": 15,
     "metadata": {},
     "output_type": "execute_result"
    }
   ],
   "source": [
    "df = pd.read_csv(\"datasets/aug_train.csv\")\n",
    "# describe():\n",
    "stats = df.describe()\n",
    "type(stats)"
   ]
  },
  {
   "cell_type": "code",
   "execution_count": 16,
   "id": "2f89ad42",
   "metadata": {},
   "outputs": [
    {
     "data": {
      "text/html": [
       "<div>\n",
       "<style scoped>\n",
       "    .dataframe tbody tr th:only-of-type {\n",
       "        vertical-align: middle;\n",
       "    }\n",
       "\n",
       "    .dataframe tbody tr th {\n",
       "        vertical-align: top;\n",
       "    }\n",
       "\n",
       "    .dataframe thead th {\n",
       "        text-align: right;\n",
       "    }\n",
       "</style>\n",
       "<table border=\"1\" class=\"dataframe\">\n",
       "  <thead>\n",
       "    <tr style=\"text-align: right;\">\n",
       "      <th></th>\n",
       "      <th>enrollee_id</th>\n",
       "      <th>city_development_index</th>\n",
       "      <th>training_hours</th>\n",
       "      <th>target</th>\n",
       "    </tr>\n",
       "  </thead>\n",
       "  <tbody>\n",
       "    <tr>\n",
       "      <th>count</th>\n",
       "      <td>19158.000000</td>\n",
       "      <td>19158.000000</td>\n",
       "      <td>19158.000000</td>\n",
       "      <td>19158.000000</td>\n",
       "    </tr>\n",
       "    <tr>\n",
       "      <th>mean</th>\n",
       "      <td>16875.358179</td>\n",
       "      <td>0.828848</td>\n",
       "      <td>65.366896</td>\n",
       "      <td>0.249348</td>\n",
       "    </tr>\n",
       "    <tr>\n",
       "      <th>std</th>\n",
       "      <td>9616.292592</td>\n",
       "      <td>0.123362</td>\n",
       "      <td>60.058462</td>\n",
       "      <td>0.432647</td>\n",
       "    </tr>\n",
       "    <tr>\n",
       "      <th>min</th>\n",
       "      <td>1.000000</td>\n",
       "      <td>0.448000</td>\n",
       "      <td>1.000000</td>\n",
       "      <td>0.000000</td>\n",
       "    </tr>\n",
       "    <tr>\n",
       "      <th>25%</th>\n",
       "      <td>8554.250000</td>\n",
       "      <td>0.740000</td>\n",
       "      <td>23.000000</td>\n",
       "      <td>0.000000</td>\n",
       "    </tr>\n",
       "    <tr>\n",
       "      <th>50%</th>\n",
       "      <td>16982.500000</td>\n",
       "      <td>0.903000</td>\n",
       "      <td>47.000000</td>\n",
       "      <td>0.000000</td>\n",
       "    </tr>\n",
       "    <tr>\n",
       "      <th>75%</th>\n",
       "      <td>25169.750000</td>\n",
       "      <td>0.920000</td>\n",
       "      <td>88.000000</td>\n",
       "      <td>0.000000</td>\n",
       "    </tr>\n",
       "    <tr>\n",
       "      <th>max</th>\n",
       "      <td>33380.000000</td>\n",
       "      <td>0.949000</td>\n",
       "      <td>336.000000</td>\n",
       "      <td>1.000000</td>\n",
       "    </tr>\n",
       "  </tbody>\n",
       "</table>\n",
       "</div>"
      ],
      "text/plain": [
       "        enrollee_id  city_development_index  training_hours        target\n",
       "count  19158.000000            19158.000000    19158.000000  19158.000000\n",
       "mean   16875.358179                0.828848       65.366896      0.249348\n",
       "std     9616.292592                0.123362       60.058462      0.432647\n",
       "min        1.000000                0.448000        1.000000      0.000000\n",
       "25%     8554.250000                0.740000       23.000000      0.000000\n",
       "50%    16982.500000                0.903000       47.000000      0.000000\n",
       "75%    25169.750000                0.920000       88.000000      0.000000\n",
       "max    33380.000000                0.949000      336.000000      1.000000"
      ]
     },
     "execution_count": 16,
     "metadata": {},
     "output_type": "execute_result"
    }
   ],
   "source": [
    "stats"
   ]
  },
  {
   "cell_type": "markdown",
   "id": "6e233b73",
   "metadata": {},
   "source": [
    "<span style=\"color:rgb(135, 206, 235)\"> describe():</span>\n",
    "<ul style=\"list-style-type:square\">\n",
    "  <li>function provides descriptive statistics about the numerical columns in the DataFrame.</li>\n",
    "  <li>Returns a DataFrame containing these statistics.</li>\n",
    "</ul>\n",
    "<i style=\"color:green\">It tells 7 things, decribed below</i><br>\n",
    "1. <b>Count:</b>  Number of non-null values in each column.<br>\n",
    "2. <b>Mean:</b>  Mean (average) value of each column.<br>\n",
    "3. <b>Std:</b>  Standard deviation, which measures the dispersion or spread of the values in each column.<br>\n",
    "3. <b>Min:</b>  Minimum value in each column.<br>\n",
    "4. <b>25% (Percentile):</b>  Value below which 25% of the data falls (first quartile or 25th percentile).<br>\n",
    "5. <b>50% (Percentile):</b>  Median value, which is the middle value when the data is sorted in ascending order (second quartile or 50th percentile).<br>\n",
    "6. <b>75% (Percentile):</b>  Value below which 75% of the data falls (third quartile or 75th percentile).<br>\n",
    "7. <b>Max:</b>  Maximum value in each column.\n",
    "          \n"
   ]
  },
  {
   "cell_type": "markdown",
   "id": "fc5344f5",
   "metadata": {},
   "source": []
  },
  {
   "cell_type": "code",
   "execution_count": null,
   "id": "74315ee7",
   "metadata": {},
   "outputs": [],
   "source": []
  },
  {
   "cell_type": "code",
   "execution_count": null,
   "id": "d8ba2eb7",
   "metadata": {},
   "outputs": [],
   "source": []
  },
  {
   "cell_type": "markdown",
   "id": "f6a2bfa5",
   "metadata": {},
   "source": [
    "<h2 style=\"color:rgb(144, 238, 144)\">2. From Json/SQL format:  </h2>"
   ]
  },
  {
   "cell_type": "code",
   "execution_count": null,
   "id": "146a1a2e",
   "metadata": {},
   "outputs": [],
   "source": []
  },
  {
   "cell_type": "code",
   "execution_count": null,
   "id": "8520a69e",
   "metadata": {},
   "outputs": [],
   "source": []
  },
  {
   "cell_type": "code",
   "execution_count": null,
   "id": "7efa2006",
   "metadata": {},
   "outputs": [],
   "source": []
  },
  {
   "cell_type": "markdown",
   "id": "e228751e",
   "metadata": {},
   "source": [
    "<h2 style=\"color:rgb(144, 238, 144)\">3. Fetch data from API: </h2>"
   ]
  },
  {
   "cell_type": "code",
   "execution_count": null,
   "id": "e6db50c4",
   "metadata": {},
   "outputs": [],
   "source": []
  },
  {
   "cell_type": "code",
   "execution_count": null,
   "id": "a25c83c4",
   "metadata": {},
   "outputs": [],
   "source": []
  },
  {
   "cell_type": "code",
   "execution_count": null,
   "id": "dc819d3d",
   "metadata": {},
   "outputs": [],
   "source": []
  },
  {
   "cell_type": "markdown",
   "id": "60b35edd",
   "metadata": {},
   "source": [
    "<h2 style=\"color:rgb(144, 238, 144)\">4. From Web-Scrapping: </h2>"
   ]
  },
  {
   "cell_type": "code",
   "execution_count": null,
   "id": "ae2502a5",
   "metadata": {},
   "outputs": [],
   "source": []
  },
  {
   "cell_type": "code",
   "execution_count": null,
   "id": "d60b1f27",
   "metadata": {},
   "outputs": [],
   "source": []
  },
  {
   "cell_type": "code",
   "execution_count": null,
   "id": "cd403aa2",
   "metadata": {},
   "outputs": [],
   "source": []
  },
  {
   "cell_type": "code",
   "execution_count": null,
   "id": "45ed8abd",
   "metadata": {},
   "outputs": [],
   "source": []
  }
 ],
 "metadata": {
  "kernelspec": {
   "display_name": "Python 3 (ipykernel)",
   "language": "python",
   "name": "python3"
  },
  "language_info": {
   "codemirror_mode": {
    "name": "ipython",
    "version": 3
   },
   "file_extension": ".py",
   "mimetype": "text/x-python",
   "name": "python",
   "nbconvert_exporter": "python",
   "pygments_lexer": "ipython3",
   "version": "3.11.7"
  }
 },
 "nbformat": 4,
 "nbformat_minor": 5
}
