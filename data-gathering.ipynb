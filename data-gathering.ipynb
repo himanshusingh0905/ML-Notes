{
 "cells": [
  {
   "cell_type": "markdown",
   "id": "927e99f2",
   "metadata": {},
   "source": [
    "<h1 style='color:orange'>DATA GATHERING:</h1><br>\n",
    "<i><p style=\"font-size:16px\">To create a model and work on that, the first thing we need is <b>DATA.</b><br>\n",
    "But, How do we get that data?</p></i>\n",
    "\n",
    "<i><h2 style=\"color:green\">There are various ways of doing that:</h2>\n",
    "   <p style=\"font-size:16px; color:blue;\">1. From csv Files<br>\n",
    "    2. Json/SQL files<br>\n",
    "    3. Fetch data from API<br>\n",
    "    4. Web-Scrapping\n",
    "    </p></i><br>\n",
    "    <p style=\"font-size:16px\">We are going to study all these methods below:</p>\n",
    "    "
   ]
  },
  {
   "cell_type": "code",
   "execution_count": 4,
   "id": "79c3142b",
   "metadata": {},
   "outputs": [],
   "source": [
    "import pandas as pd"
   ]
  },
  {
   "cell_type": "markdown",
   "id": "b497eef5",
   "metadata": {},
   "source": [
    "<h2 style=\"color:red\">1. From CSV Files: </h2><br>\n",
    "<i style=\"font-size:16px\">CSV = Comma Separated Files:<br>\n",
    " These files can be uploaded from local storage by just providing the path of that file in <b>read_csv()</b> function.\n",
    " </i><br>\n",
    " <i style=\"font-size:16px\"> Below we're going to study some important parameters of read_csv() function: </i>"
   ]
  },
  {
   "cell_type": "code",
   "execution_count": null,
   "id": "2413dfa3",
   "metadata": {},
   "outputs": [],
   "source": []
  },
  {
   "cell_type": "code",
   "execution_count": null,
   "id": "5427fa77",
   "metadata": {},
   "outputs": [],
   "source": []
  },
  {
   "cell_type": "code",
   "execution_count": null,
   "id": "c14cb677",
   "metadata": {},
   "outputs": [],
   "source": []
  },
  {
   "cell_type": "code",
   "execution_count": null,
   "id": "6bcbf466",
   "metadata": {},
   "outputs": [],
   "source": []
  },
  {
   "cell_type": "code",
   "execution_count": null,
   "id": "d4dfafd9",
   "metadata": {},
   "outputs": [],
   "source": []
  },
  {
   "cell_type": "code",
   "execution_count": null,
   "id": "a4c64675",
   "metadata": {},
   "outputs": [],
   "source": []
  },
  {
   "cell_type": "markdown",
   "id": "f7c0863f",
   "metadata": {},
   "source": [
    "<h2 style=\"color:red\">2. From Json/SQL format:  </h2>"
   ]
  },
  {
   "cell_type": "code",
   "execution_count": null,
   "id": "85be2553",
   "metadata": {},
   "outputs": [],
   "source": []
  },
  {
   "cell_type": "code",
   "execution_count": null,
   "id": "3e5374f5",
   "metadata": {},
   "outputs": [],
   "source": []
  },
  {
   "cell_type": "code",
   "execution_count": null,
   "id": "0e04d4de",
   "metadata": {},
   "outputs": [],
   "source": []
  },
  {
   "cell_type": "markdown",
   "id": "a7122a79",
   "metadata": {},
   "source": [
    "<h2 style=\"color:red\">3. Fetch data from API: </h2>"
   ]
  },
  {
   "cell_type": "code",
   "execution_count": null,
   "id": "c714de5f",
   "metadata": {},
   "outputs": [],
   "source": []
  },
  {
   "cell_type": "code",
   "execution_count": null,
   "id": "07d29ca3",
   "metadata": {},
   "outputs": [],
   "source": []
  },
  {
   "cell_type": "code",
   "execution_count": null,
   "id": "5b01baf6",
   "metadata": {},
   "outputs": [],
   "source": []
  },
  {
   "cell_type": "markdown",
   "id": "bd8cd01b",
   "metadata": {},
   "source": [
    "<h2 style=\"color:red\">4. From Web-Scrapping: </h2>"
   ]
  },
  {
   "cell_type": "code",
   "execution_count": null,
   "id": "a88a9d6b",
   "metadata": {},
   "outputs": [],
   "source": []
  },
  {
   "cell_type": "code",
   "execution_count": null,
   "id": "697522fa",
   "metadata": {},
   "outputs": [],
   "source": []
  },
  {
   "cell_type": "code",
   "execution_count": null,
   "id": "24cebd99",
   "metadata": {},
   "outputs": [],
   "source": []
  },
  {
   "cell_type": "code",
   "execution_count": null,
   "id": "6230207d",
   "metadata": {},
   "outputs": [],
   "source": []
  }
 ],
 "metadata": {
  "kernelspec": {
   "display_name": "Python 3 (ipykernel)",
   "language": "python",
   "name": "python3"
  },
  "language_info": {
   "codemirror_mode": {
    "name": "ipython",
    "version": 3
   },
   "file_extension": ".py",
   "mimetype": "text/x-python",
   "name": "python",
   "nbconvert_exporter": "python",
   "pygments_lexer": "ipython3",
   "version": "3.11.7"
  }
 },
 "nbformat": 4,
 "nbformat_minor": 5
}
