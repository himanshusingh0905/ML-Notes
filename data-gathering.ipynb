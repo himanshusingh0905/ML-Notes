{
 "cells": [
  {
   "cell_type": "markdown",
   "id": "927e99f2",
   "metadata": {},
   "source": [
    "<h1 style='color:rgb(255, 95, 31)'>DATA GATHERING:</h1><br>\n",
    "<i style=\"font-size:16px\">To create a model and work on that, the first thing we need is <b>DATA.</b><br>\n",
    "But, How do we get that data?</i>\n",
    "\n",
    "<h2 style=\"color:rgb(152, 251, 152)\">There are various ways of doing that:</h2>\n",
    "   <p style=\"font-size:16px;\">1. From csv Files<br>\n",
    "    2. Json/SQL files<br>\n",
    "    3. Fetch data from API<br>\n",
    "    4. Web-Scrapping\n",
    "    </p>\n",
    "    <p style=\"font-size:16px\">We are going to study all these methods below:</p>\n",
    "    "
   ]
  },
  {
   "cell_type": "code",
   "execution_count": 18,
   "id": "79c3142b",
   "metadata": {},
   "outputs": [],
   "source": [
    "import pandas as pd"
   ]
  },
  {
   "cell_type": "markdown",
   "id": "536da3e9",
   "metadata": {},
   "source": [
    "<h2 style=\"color:rgb(50, 205, 50)\">1. From CSV Files: </h2>\n",
    "<p style=\"font-size:16px\">CSV = Comma Separated Files:<br>\n",
    " These files can be uploaded from local storage by just providing the path of that file in <b>read_csv()</b> function.</p>\n",
    " <p style=\"font-size:16px\"> Below we're going to study some important <span style=\"color:rgb(207, 159, 255)\">PARAMETERS</span> of <span style=\"color:rgb(207, 159, 255)\">read_csv()</span> function: </p>"
   ]
  },
  {
   "cell_type": "code",
   "execution_count": 15,
   "id": "e30b2ac5",
   "metadata": {},
   "outputs": [
    {
     "data": {
      "text/plain": [
       "pandas.core.frame.DataFrame"
      ]
     },
     "execution_count": 15,
     "metadata": {},
     "output_type": "execute_result"
    }
   ],
   "source": [
    "df = pd.read_csv(\"datasets/aug_train.csv\")\n",
    "# describe():\n",
    "stats = df.describe()\n",
    "# lets see what describe() returns\n",
    "type(stats)"
   ]
  },
  {
   "cell_type": "code",
   "execution_count": 16,
   "id": "7e8db220",
   "metadata": {},
   "outputs": [
    {
     "data": {
      "text/html": [
       "<div>\n",
       "<style scoped>\n",
       "    .dataframe tbody tr th:only-of-type {\n",
       "        vertical-align: middle;\n",
       "    }\n",
       "\n",
       "    .dataframe tbody tr th {\n",
       "        vertical-align: top;\n",
       "    }\n",
       "\n",
       "    .dataframe thead th {\n",
       "        text-align: right;\n",
       "    }\n",
       "</style>\n",
       "<table border=\"1\" class=\"dataframe\">\n",
       "  <thead>\n",
       "    <tr style=\"text-align: right;\">\n",
       "      <th></th>\n",
       "      <th>enrollee_id</th>\n",
       "      <th>city_development_index</th>\n",
       "      <th>training_hours</th>\n",
       "      <th>target</th>\n",
       "    </tr>\n",
       "  </thead>\n",
       "  <tbody>\n",
       "    <tr>\n",
       "      <th>count</th>\n",
       "      <td>19158.000000</td>\n",
       "      <td>19158.000000</td>\n",
       "      <td>19158.000000</td>\n",
       "      <td>19158.000000</td>\n",
       "    </tr>\n",
       "    <tr>\n",
       "      <th>mean</th>\n",
       "      <td>16875.358179</td>\n",
       "      <td>0.828848</td>\n",
       "      <td>65.366896</td>\n",
       "      <td>0.249348</td>\n",
       "    </tr>\n",
       "    <tr>\n",
       "      <th>std</th>\n",
       "      <td>9616.292592</td>\n",
       "      <td>0.123362</td>\n",
       "      <td>60.058462</td>\n",
       "      <td>0.432647</td>\n",
       "    </tr>\n",
       "    <tr>\n",
       "      <th>min</th>\n",
       "      <td>1.000000</td>\n",
       "      <td>0.448000</td>\n",
       "      <td>1.000000</td>\n",
       "      <td>0.000000</td>\n",
       "    </tr>\n",
       "    <tr>\n",
       "      <th>25%</th>\n",
       "      <td>8554.250000</td>\n",
       "      <td>0.740000</td>\n",
       "      <td>23.000000</td>\n",
       "      <td>0.000000</td>\n",
       "    </tr>\n",
       "    <tr>\n",
       "      <th>50%</th>\n",
       "      <td>16982.500000</td>\n",
       "      <td>0.903000</td>\n",
       "      <td>47.000000</td>\n",
       "      <td>0.000000</td>\n",
       "    </tr>\n",
       "    <tr>\n",
       "      <th>75%</th>\n",
       "      <td>25169.750000</td>\n",
       "      <td>0.920000</td>\n",
       "      <td>88.000000</td>\n",
       "      <td>0.000000</td>\n",
       "    </tr>\n",
       "    <tr>\n",
       "      <th>max</th>\n",
       "      <td>33380.000000</td>\n",
       "      <td>0.949000</td>\n",
       "      <td>336.000000</td>\n",
       "      <td>1.000000</td>\n",
       "    </tr>\n",
       "  </tbody>\n",
       "</table>\n",
       "</div>"
      ],
      "text/plain": [
       "        enrollee_id  city_development_index  training_hours        target\n",
       "count  19158.000000            19158.000000    19158.000000  19158.000000\n",
       "mean   16875.358179                0.828848       65.366896      0.249348\n",
       "std     9616.292592                0.123362       60.058462      0.432647\n",
       "min        1.000000                0.448000        1.000000      0.000000\n",
       "25%     8554.250000                0.740000       23.000000      0.000000\n",
       "50%    16982.500000                0.903000       47.000000      0.000000\n",
       "75%    25169.750000                0.920000       88.000000      0.000000\n",
       "max    33380.000000                0.949000      336.000000      1.000000"
      ]
     },
     "execution_count": 16,
     "metadata": {},
     "output_type": "execute_result"
    }
   ],
   "source": [
    "stats"
   ]
  },
  {
   "cell_type": "markdown",
   "id": "c03bed58",
   "metadata": {},
   "source": [
    "![purple-divider](https://user-images.githubusercontent.com/7065401/52071927-c1cd7100-2562-11e9-908a-dde91ba14e59.png)\n",
    "\n",
    "<span style=\"color:rgb(0, 255, 255);font-weight:bold; font-size:25px\"> describe():</span>\n",
    "<ul style=\"list-style-type:square\">\n",
    "  <li>function provides descriptive statistics about the numerical columns in the DataFrame.</li>\n",
    "  <li>Returns a DataFrame containing these statistics.</li>\n",
    "</ul>\n",
    "<span style=\"color:rgb(152, 251, 152);font-size:18px\">It tells 7 things, decribed below:</span><br>\n",
    "1. <b style=\"text-decoration:underline\">Count:</b>  Number of non-null values in each column.<br>\n",
    "2. <b style=\"text-decoration:underline\">Mean:</b>  Mean (average) value of each column.<br>\n",
    "3. <b style=\"text-decoration:underline\">Std:</b>  Standard deviation, which measures the dispersion or spread of the values in each column.<br>\n",
    "3. <b style=\"text-decoration:underline\">Min:</b>  Minimum value in each column.<br>\n",
    "4. <b style=\"text-decoration:underline\">25% (Percentile):</b>  Value below which 25% of the data falls (first quartile or 25th percentile).<br>\n",
    "5. <b style=\"text-decoration:underline\">50% (Percentile):</b>  Median value, which is the middle value when the data is sorted in ascending order (second quartile or 50th percentile).<br>\n",
    "6. <b style=\"text-decoration:underline\">75% (Percentile):</b>  Value below which 75% of the data falls (third quartile or 75th percentile).<br>\n",
    "7. <b style=\"text-decoration:underline\">Max:</b>  Maximum value in each column.<br>\n",
    "\n",
    "<hr style=\"margin-bottom: 50px;\">  \n",
    "\n",
    "<p style=\"font-size:17px; color:rgb(100, 149, 237);\">When you are dealing with csv files or any case <span style=\"color:rgb(207, 159, 255)\">read_csv()</span> is very important. you know there are total about 50 parameters of it.<br>But we are going to study around 15 or 16 important parameters of it.</p>\n"
   ]
  },
  {
   "cell_type": "markdown",
   "id": "a8547079",
   "metadata": {},
   "source": []
  },
  {
   "cell_type": "code",
   "execution_count": null,
   "id": "47bf2a3f",
   "metadata": {},
   "outputs": [],
   "source": []
  },
  {
   "cell_type": "code",
   "execution_count": null,
   "id": "181d08fe",
   "metadata": {},
   "outputs": [],
   "source": []
  },
  {
   "cell_type": "markdown",
   "id": "8d8727ab",
   "metadata": {},
   "source": [
    "<h2 style=\"color:rgb(50, 205, 50)\">2. From Json/SQL format:  </h2>"
   ]
  },
  {
   "cell_type": "markdown",
   "id": "2649eb7a",
   "metadata": {},
   "source": [
    "![green-divider](https://user-images.githubusercontent.com/7065401/52071924-c003ad80-2562-11e9-8297-1c6595f8a7ff.png)\n"
   ]
  },
  {
   "cell_type": "code",
   "execution_count": null,
   "id": "506f8945",
   "metadata": {},
   "outputs": [],
   "source": []
  },
  {
   "cell_type": "code",
   "execution_count": null,
   "id": "e3779261",
   "metadata": {},
   "outputs": [],
   "source": []
  },
  {
   "cell_type": "markdown",
   "id": "672b4525",
   "metadata": {},
   "source": [
    "<h2 style=\"color:rgb(50, 205, 50)\">3. Fetch data from API: </h2>"
   ]
  },
  {
   "cell_type": "code",
   "execution_count": null,
   "id": "e3e90bec",
   "metadata": {},
   "outputs": [],
   "source": []
  },
  {
   "cell_type": "code",
   "execution_count": null,
   "id": "1116799f",
   "metadata": {},
   "outputs": [],
   "source": []
  },
  {
   "cell_type": "code",
   "execution_count": null,
   "id": "e977e1ac",
   "metadata": {},
   "outputs": [],
   "source": []
  },
  {
   "cell_type": "markdown",
   "id": "1851e8b4",
   "metadata": {},
   "source": [
    "<h2 style=\"color:rgb(50, 205, 50)\">4. From Web-Scrapping: </h2>"
   ]
  },
  {
   "cell_type": "code",
   "execution_count": null,
   "id": "91e37377",
   "metadata": {},
   "outputs": [],
   "source": []
  },
  {
   "cell_type": "code",
   "execution_count": null,
   "id": "561e5104",
   "metadata": {},
   "outputs": [],
   "source": []
  },
  {
   "cell_type": "code",
   "execution_count": null,
   "id": "2e93fd14",
   "metadata": {},
   "outputs": [],
   "source": []
  },
  {
   "cell_type": "code",
   "execution_count": null,
   "id": "842b53db",
   "metadata": {},
   "outputs": [],
   "source": []
  }
 ],
 "metadata": {
  "kernelspec": {
   "display_name": "Python 3 (ipykernel)",
   "language": "python",
   "name": "python3"
  },
  "language_info": {
   "codemirror_mode": {
    "name": "ipython",
    "version": 3
   },
   "file_extension": ".py",
   "mimetype": "text/x-python",
   "name": "python",
   "nbconvert_exporter": "python",
   "pygments_lexer": "ipython3",
   "version": "3.11.7"
  }
 },
 "nbformat": 4,
 "nbformat_minor": 5
}
