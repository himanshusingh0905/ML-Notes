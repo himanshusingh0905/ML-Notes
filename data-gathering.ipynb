{
 "cells": [
  {
   "cell_type": "markdown",
   "id": "927e99f2",
   "metadata": {},
   "source": [
    "<h1 style='color:orange'>DATA GATHERING:</h1><br>\n",
    "<i style=\"font-size:16px\">To create a model and work on that, the first thing we need is <b>DATA.</b><br>\n",
    "But, How do we get that data?</i>\n",
    "\n",
    "<h2 style=\"color:green\">There are various ways of doing that:</h2>\n",
    "   <p style=\"font-size:16px; color:blue;\">1. From csv Files<br>\n",
    "    2. Json/SQL files<br>\n",
    "    3. Fetch data from API<br>\n",
    "    4. Web-Scrapping\n",
    "    </p>\n",
    "    <p style=\"font-size:16px\">We are going to study all these methods below:</p>\n",
    "    "
   ]
  },
  {
   "cell_type": "code",
   "execution_count": 4,
   "id": "79c3142b",
   "metadata": {},
   "outputs": [],
   "source": [
    "import pandas as pd"
   ]
  },
  {
   "cell_type": "markdown",
   "id": "8b05d9dc",
   "metadata": {},
   "source": [
    "<h2 style=\"color:rgb(144, 238, 144)\">1. From CSV Files: </h2>\n",
    "<p style=\"font-size:16px\">CSV = Comma Separated Files:<br>\n",
    " These files can be uploaded from local storage by just providing the path of that file in <b>read_csv()</b> function.</p>\n",
    " <p style=\"font-size:16px\"> Below we're going to study some important <i>PARAMETERS</i> of read_csv() function: </p>"
   ]
  },
  {
   "cell_type": "code",
   "execution_count": null,
   "id": "71fae6b3",
   "metadata": {},
   "outputs": [],
   "source": []
  },
  {
   "cell_type": "code",
   "execution_count": null,
   "id": "91edeb6e",
   "metadata": {},
   "outputs": [],
   "source": []
  },
  {
   "cell_type": "code",
   "execution_count": null,
   "id": "4d3e5c9b",
   "metadata": {},
   "outputs": [],
   "source": []
  },
  {
   "cell_type": "code",
   "execution_count": null,
   "id": "8521f2fb",
   "metadata": {},
   "outputs": [],
   "source": []
  },
  {
   "cell_type": "code",
   "execution_count": null,
   "id": "f89429a3",
   "metadata": {},
   "outputs": [],
   "source": []
  },
  {
   "cell_type": "code",
   "execution_count": null,
   "id": "9d140812",
   "metadata": {},
   "outputs": [],
   "source": []
  },
  {
   "cell_type": "markdown",
   "id": "c95860db",
   "metadata": {},
   "source": [
    "<h2 style=\"color:rgb(144, 238, 144)\">2. From Json/SQL format:  </h2>"
   ]
  },
  {
   "cell_type": "code",
   "execution_count": null,
   "id": "97cbf0c5",
   "metadata": {},
   "outputs": [],
   "source": []
  },
  {
   "cell_type": "code",
   "execution_count": null,
   "id": "5cc6b5c5",
   "metadata": {},
   "outputs": [],
   "source": []
  },
  {
   "cell_type": "code",
   "execution_count": null,
   "id": "236ec269",
   "metadata": {},
   "outputs": [],
   "source": []
  },
  {
   "cell_type": "markdown",
   "id": "40e2e61a",
   "metadata": {},
   "source": [
    "<h2 style=\"color:rgb(144, 238, 144)\">3. Fetch data from API: </h2>"
   ]
  },
  {
   "cell_type": "code",
   "execution_count": null,
   "id": "c5994371",
   "metadata": {},
   "outputs": [],
   "source": []
  },
  {
   "cell_type": "code",
   "execution_count": null,
   "id": "f0dcec89",
   "metadata": {},
   "outputs": [],
   "source": []
  },
  {
   "cell_type": "code",
   "execution_count": null,
   "id": "51f75980",
   "metadata": {},
   "outputs": [],
   "source": []
  },
  {
   "cell_type": "markdown",
   "id": "3df97bb7",
   "metadata": {},
   "source": [
    "<h2 style=\"color:rgb(144, 238, 144)\">4. From Web-Scrapping: </h2>"
   ]
  },
  {
   "cell_type": "code",
   "execution_count": null,
   "id": "00d2e490",
   "metadata": {},
   "outputs": [],
   "source": []
  },
  {
   "cell_type": "code",
   "execution_count": null,
   "id": "e86a052a",
   "metadata": {},
   "outputs": [],
   "source": []
  },
  {
   "cell_type": "code",
   "execution_count": null,
   "id": "862f7615",
   "metadata": {},
   "outputs": [],
   "source": []
  },
  {
   "cell_type": "code",
   "execution_count": null,
   "id": "1c199f68",
   "metadata": {},
   "outputs": [],
   "source": []
  }
 ],
 "metadata": {
  "kernelspec": {
   "display_name": "Python 3 (ipykernel)",
   "language": "python",
   "name": "python3"
  },
  "language_info": {
   "codemirror_mode": {
    "name": "ipython",
    "version": 3
   },
   "file_extension": ".py",
   "mimetype": "text/x-python",
   "name": "python",
   "nbconvert_exporter": "python",
   "pygments_lexer": "ipython3",
   "version": "3.11.7"
  }
 },
 "nbformat": 4,
 "nbformat_minor": 5
}
