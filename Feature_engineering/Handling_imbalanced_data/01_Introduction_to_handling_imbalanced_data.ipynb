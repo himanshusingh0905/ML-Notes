{
 "cells": [
  {
   "cell_type": "markdown",
   "id": "f3a145ba",
   "metadata": {},
   "source": [
    "# Handling imbalanced data : \n",
    "- Applicable to dataset containg a **categorical label**.\n",
    "\n",
    "- **WHAT IS IT** : When one class outnumbers the other class in categorical label (target).\n",
    "- The *predominant label* (label which is more common) in imbalanced dataset is called **majority class**. and less common label is called **minority class**.\n",
    "\n",
    "\n",
    "## Problem with Handling Imbalanced Data for Classification\n",
    " - Algorithms may get **biased** towards the **majority clas**s and thus tend to predict output as the majority class.\n",
    " - Minority class observations look like noise to the model and are ignored by the model.\n",
    " - Imbalanced dataset gives misleading accuracy score.\n",
    "\n",
    "\n",
    "### Degree of imbalance table\n",
    "\n",
    "| Percentage of data belonging to minority class | Degree of imbalance |\n",
    "|-----------------------------------------------|-------------------|\n",
    "| 20-40% of the dataset                        | Mild              |\n",
    "| 1-20% of the dataset                         | Moderate          |\n",
    "| <1% of the dataset                           | Extreme           |"
   ]
  },
  {
   "cell_type": "markdown",
   "id": "80fed782",
   "metadata": {},
   "source": [
    "### Let's create a dataset using np.random"
   ]
  },
  {
   "cell_type": "code",
   "execution_count": 1,
   "id": "ec872aca",
   "metadata": {},
   "outputs": [],
   "source": [
    "import numpy as np\n",
    "\n",
    "rng = np.random.default_rng(seed=42)\n",
    "\n",
    "sample_size = 1000\n",
    "class_1_ratio = 0.9\n",
    "class_1_size = int(sample_size * class_1_ratio)\n",
    "class_2_size = sample_size - class_1_size"
   ]
  },
  {
   "cell_type": "code",
   "execution_count": 2,
   "id": "6ffe06e1",
   "metadata": {},
   "outputs": [
    {
     "data": {
      "text/plain": [
       "(900, 100)"
      ]
     },
     "execution_count": 2,
     "metadata": {},
     "output_type": "execute_result"
    }
   ],
   "source": [
    "class_1_size, class_2_size"
   ]
  }
 ],
 "metadata": {
  "kernelspec": {
   "display_name": "venv",
   "language": "python",
   "name": "python3"
  },
  "language_info": {
   "codemirror_mode": {
    "name": "ipython",
    "version": 3
   },
   "file_extension": ".py",
   "mimetype": "text/x-python",
   "name": "python",
   "nbconvert_exporter": "python",
   "pygments_lexer": "ipython3",
   "version": "3.10.12"
  }
 },
 "nbformat": 4,
 "nbformat_minor": 5
}
