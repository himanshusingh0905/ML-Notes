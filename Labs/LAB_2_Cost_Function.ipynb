{
 "cells": [
  {
   "cell_type": "markdown",
   "id": "344a3c38",
   "metadata": {},
   "source": [
    "# Cost Function Lab"
   ]
  },
  {
   "cell_type": "markdown",
   "id": "7a5d9e42",
   "metadata": {},
   "source": [
    "## Problem Statement\n",
    "\n",
    "As in the lecture, you will use the motivating example of **housing price prediction**.\n",
    "\n",
    "This lab will use a simple data set with only two data points:\n",
    "\n",
    "- A house with **1000 square feet (sqft)** sold for **$300,000**\n",
    "- A house with **2000 square feet** sold for **$500,000**\n",
    "\n",
    "These two points will constitute our **data or training set**.\n",
    "\n",
    "\n",
    "| Size (1000 sqft) | Price (1000s of dollars)  |\n",
    "|------------------|---------------------------|\n",
    "| 1.0              | 300                       |\n",
    "| 2.0              | 500                       |\n",
    "\n",
    "\n",
    "You would like to fit a **linear regression model**, so you can then **predict the price for other houses**.\n"
   ]
  },
  {
   "cell_type": "markdown",
   "id": "2fb1fdbf",
   "metadata": {},
   "source": [
    "The cost function is defined as:\n",
    "\n",
    "$$\n",
    "J(w, b) = \\frac{1}{2m} \\sum_{i=0}^{m-1} \\left(f_{w,b}(x^{(i)}) - y^{(i)}\\right)^2\n",
    "$$\n",
    "\n",
    "Where, \n",
    "\n",
    "$$\n",
    "f_{w,b}(x^{(i)}) = wx^{(i)} + b\n",
    "$$\n",
    "\n",
    "- $f_{w,b}(x^{(i)})$ = ***Prediction*** for example ***i***\n",
    "- $(f_{w,b}(x^{(i)}) - y^{(i)})^2$ is the squared difference between actual value and prediction.\n"
   ]
  },
  {
   "cell_type": "code",
   "execution_count": 1,
   "id": "dfcb01b9",
   "metadata": {},
   "outputs": [],
   "source": [
    "# Import libraries\n",
    "import matplotlib.pyplot as plt\n",
    "import numpy as np\n",
    "\n",
    "plt.style.use(\"./deeplearning.mplstyle\")"
   ]
  },
  {
   "cell_type": "code",
   "execution_count": 2,
   "id": "2d9541ae",
   "metadata": {},
   "outputs": [],
   "source": [
    "# Training data\n",
    "x_train = np.array([1.0, 2.0])\n",
    "y_train = np.array([300, 500])\n",
    "\n"
   ]
  },
  {
   "cell_type": "code",
   "execution_count": 3,
   "id": "2f4e9127",
   "metadata": {},
   "outputs": [],
   "source": [
    "\n",
    "# Cost Function\n",
    "\n",
    "def compute_cost_function(w,b,x,y):\n",
    "    \"\"\"\n",
    "      x : numpy array, here it's 1-D arra\n",
    "      y : ndarray, target variable.\n",
    "      w : ndarray\n",
    "      b : scalar\n",
    "    \"\"\"\n",
    "\n",
    "    m = x.shape[0]\n",
    "    # Calculate total cost:\n",
    "    total_cost = 0\n",
    "    \n",
    "    for i in range(m):\n",
    "        x_i = x[i]\n",
    "        y_i = y[i]\n",
    "        f_wb = w * x_i + b\n",
    "        cost = (f_wb - y_i) ** 2\n",
    "        total_cost = cost + total_cost\n",
    "\n",
    "    total_cost = (1 / 2 * m) * total_cost\n",
    "    return total_cost"
   ]
  },
  {
   "cell_type": "code",
   "execution_count": 18,
   "id": "071c3d10",
   "metadata": {},
   "outputs": [
    {
     "data": {
      "text/plain": [
       "array([  0,   5,  10,  15,  20,  25,  30,  35,  40,  45,  50,  55,  60,\n",
       "        65,  70,  75,  80,  85,  90,  95, 100, 105, 110, 115, 120, 125,\n",
       "       130, 135, 140, 145, 150, 155, 160, 165, 170, 175, 180, 185, 190,\n",
       "       195, 200, 205, 210, 215, 220, 225, 230, 235, 240, 245, 250, 255,\n",
       "       260, 265, 270, 275, 280, 285, 290, 295, 300, 305, 310, 315, 320,\n",
       "       325, 330, 335, 340, 345, 350, 355, 360, 365, 370, 375, 380, 385,\n",
       "       390, 395])"
      ]
     },
     "execution_count": 18,
     "metadata": {},
     "output_type": "execute_result"
    }
   ],
   "source": [
    "w_range = np.array([200-200,200+200])\n",
    "tmp_b = 100\n",
    "\n",
    "w_array = np.arange(*w_range, 5)\n",
    "w_array\n"
   ]
  },
  {
   "cell_type": "code",
   "execution_count": 16,
   "id": "91cd541c",
   "metadata": {},
   "outputs": [],
   "source": [
    "x_train = np.array([1.0, 1.7, 2.0, 2.5, 3.0, 3.2])\n",
    "y_train = np.array([250, 300, 480,  430,   630, 730,])"
   ]
  },
  {
   "cell_type": "code",
   "execution_count": null,
   "id": "6a49b3ce",
   "metadata": {},
   "outputs": [],
   "source": [
    "plt.close('all') \n",
    "fig, ax, dyn_items = plt_stationary(x_train, y_train)\n",
    "\n",
    "updater = plt_update_onclick(fig, ax, x_train, y_train, dyn_items)"
   ]
  },
  {
   "cell_type": "markdown",
   "id": "973af5f7",
   "metadata": {},
   "source": []
  }
 ],
 "metadata": {
  "kernelspec": {
   "display_name": "venv",
   "language": "python",
   "name": "python3"
  },
  "language_info": {
   "codemirror_mode": {
    "name": "ipython",
    "version": 3
   },
   "file_extension": ".py",
   "mimetype": "text/x-python",
   "name": "python",
   "nbconvert_exporter": "python",
   "pygments_lexer": "ipython3",
   "version": "3.10.12"
  }
 },
 "nbformat": 4,
 "nbformat_minor": 5
}
