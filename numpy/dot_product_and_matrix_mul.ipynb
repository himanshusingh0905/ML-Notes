{
 "cells": [
  {
   "cell_type": "markdown",
   "id": "aa2121a3",
   "metadata": {},
   "source": [
    "# Dot product\n",
    "\n",
    "### Important points:\n",
    "1. Vectors (i.e. arrays) must be of same length. \n",
    "\n",
    "2. For *scalars* and *1-d arrays*, it behaves like **dot product** of vectors. But for *2-d or larger arrays* it behaves like **matrix multiplication**."
   ]
  },
  {
   "cell_type": "markdown",
   "id": "679d6775",
   "metadata": {},
   "source": [
    "## 1. Product of scalars:"
   ]
  },
  {
   "cell_type": "code",
   "execution_count": 8,
   "id": "c6a6c59f",
   "metadata": {},
   "outputs": [
    {
     "name": "stdout",
     "output_type": "stream",
     "text": [
      "125\n"
     ]
    }
   ],
   "source": [
    "import numpy as np\n",
    "\n",
    "a = 25\n",
    "b = 5\n",
    "print(np.dot(a,b))\n"
   ]
  },
  {
   "cell_type": "markdown",
   "id": "39b0788a",
   "metadata": {},
   "source": [
    "## 2. Product of 1-d arrays"
   ]
  },
  {
   "cell_type": "code",
   "execution_count": null,
   "id": "0545ce6c",
   "metadata": {},
   "outputs": [
    {
     "name": "stdout",
     "output_type": "stream",
     "text": [
      "32\n",
      "(3,)\n",
      "(3,)\n"
     ]
    }
   ],
   "source": [
    "import numpy as np\n",
    "\n",
    "# Dot product between vectors\n",
    "a = np.array([1, 2, 3])\n",
    "b = np.array([4, 5, 6])\n",
    "\n",
    "dot = np.dot(a, b)      # Both a and b must have same length, other you will get error.\n",
    "\n",
    "print(dot)   \n",
    "print(a.shape)\n",
    "print(b.shape)\n"
   ]
  },
  {
   "cell_type": "code",
   "execution_count": 5,
   "id": "56abb007",
   "metadata": {},
   "outputs": [
    {
     "name": "stdout",
     "output_type": "stream",
     "text": [
      "[[1 2]\n",
      " [3 4]]\n",
      "--------\n",
      "[[5 6]\n",
      " [7 8]]\n",
      "--------\n",
      "[[19 22]\n",
      " [43 50]]\n"
     ]
    }
   ],
   "source": [
    "# Matrix multiplication\n",
    "A = np.array([[1, 2], [3, 4]])\n",
    "B = np.array([[5, 6], [7, 8]])\n",
    "\n",
    "mat1 = np.dot(A, B)          # Works for matrices\n",
    "mat2 = A @ B                 # Preferred way\n",
    "mat3 = np.matmul(A, B)       # Explicit matrix multiplication\n",
    "\n",
    "print(A)\n",
    "print(\"--------\")\n",
    "print(B)\n",
    "print(\"--------\")\n",
    "\n",
    "print(mat1)\n",
    "# [[19 22]\n",
    "#  [43 50]]\n"
   ]
  }
 ],
 "metadata": {
  "kernelspec": {
   "display_name": "venv",
   "language": "python",
   "name": "python3"
  },
  "language_info": {
   "codemirror_mode": {
    "name": "ipython",
    "version": 3
   },
   "file_extension": ".py",
   "mimetype": "text/x-python",
   "name": "python",
   "nbconvert_exporter": "python",
   "pygments_lexer": "ipython3",
   "version": "3.10.10"
  }
 },
 "nbformat": 4,
 "nbformat_minor": 5
}
