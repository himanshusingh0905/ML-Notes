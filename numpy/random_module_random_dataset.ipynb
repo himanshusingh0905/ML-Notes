{
 "cells": [
  {
   "cell_type": "markdown",
   "id": "df85a9f5",
   "metadata": {},
   "source": []
  },
  {
   "cell_type": "code",
   "execution_count": null,
   "id": "9d7f776d",
   "metadata": {},
   "outputs": [
    {
     "name": "stdout",
     "output_type": "stream",
     "text": [
      "2 1 5 4 4 3 2 9 2 10 7 1 1 2 4 4 9 10 1 9 4 9 7 4 8 10 5 1 3 7 \n",
      "[6, 5, 3, 4, 6, 2, 2, 7, 2, 6]\n",
      "[6, 10, 5, 1, 8, 9, 2, 7, 2, 9]\n"
     ]
    }
   ],
   "source": [
    "# import numpy as np\n",
    "import random\n",
    "\n",
    "random.seed(42)\n",
    "\n",
    "\n",
    "# Let's print the first 30 random numbers, of the sequence, whose seed = 42\n",
    "for _ in range(30):\n",
    "    print(random.randint(1,10),end=\" \")\n",
    "print()\n",
    "\n",
    "\n",
    "#  first 10 numbers of the sequence\n",
    "sequence_part_1 = []\n",
    "for _ in range(10):\n",
    "    sequence_part_1.append(random.randint(1, 10))\n",
    "print(sequence_part_1)\n",
    "\n",
    "# next 10 numbers of same sequence.\n",
    "sequence_part_2 = [random.randint(1,10) for _ in range(10)]\n",
    "print(sequence_part_2)"
   ]
  },
  {
   "cell_type": "markdown",
   "id": "f24e44fc",
   "metadata": {},
   "source": [
    "#### I'm not getting output as expected. \n",
    "#### Why?\n",
    " - I generate 30 random numbers in the first loop. That **advances the 'internal PRNG state' by 30 steps**.\n",
    "\n",
    " - Then, `sequence_part_1` starts from the **31st random number**, not the 1st.\n",
    "\n",
    " - And `sequence_part_2` starts from the **41st random number**\n",
    "\n",
    "**So, I need to reset the seed each time before generating those parts:**"
   ]
  },
  {
   "cell_type": "code",
   "execution_count": 7,
   "id": "58d5ea1b",
   "metadata": {},
   "outputs": [
    {
     "name": "stdout",
     "output_type": "stream",
     "text": [
      "2 1 5 4 4 3 2 9 2 10 7 1 1 2 4 4 9 10 1 9 4 9 7 4 8 10 5 1 3 7 \n",
      "[2, 1, 5, 4, 4, 3, 2, 9, 2, 10]\n",
      "[7, 1, 1, 2, 4, 4, 9, 10, 1, 9]\n"
     ]
    }
   ],
   "source": [
    "import random\n",
    "\n",
    "random.seed(42)\n",
    "for _ in range(30):\n",
    "    print(random.randint(1,10), end=\" \")\n",
    "print()\n",
    "\n",
    "random.seed(42)\n",
    "sequence_part_1 = [random.randint(1, 10) for _ in range(10)]\n",
    "print(sequence_part_1)\n",
    "\n",
    "# Now 'internal PRNG state' is at 11th step\n",
    "sequence_part_2 = [random.randint(1, 10) for _ in range(10)]\n",
    "print(sequence_part_2)\n"
   ]
  },
  {
   "cell_type": "code",
   "execution_count": null,
   "id": "739281ab",
   "metadata": {},
   "outputs": [],
   "source": [
    "random.seed(55)\n"
   ]
  }
 ],
 "metadata": {
  "kernelspec": {
   "display_name": "venv",
   "language": "python",
   "name": "python3"
  },
  "language_info": {
   "codemirror_mode": {
    "name": "ipython",
    "version": 3
   },
   "file_extension": ".py",
   "mimetype": "text/x-python",
   "name": "python",
   "nbconvert_exporter": "python",
   "pygments_lexer": "ipython3",
   "version": "3.10.12"
  }
 },
 "nbformat": 4,
 "nbformat_minor": 5
}
