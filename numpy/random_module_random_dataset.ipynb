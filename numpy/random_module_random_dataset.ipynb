{
 "cells": [
  {
   "cell_type": "markdown",
   "id": "c41978f0",
   "metadata": {},
   "source": [
    "# Generate random numbers."
   ]
  },
  {
   "cell_type": "markdown",
   "id": "df85a9f5",
   "metadata": {},
   "source": [
    "## Why is seed important?\n",
    "- **Seed**: Initial values that determine the **sequence** of pseudorandom numbers.\n",
    "- For each new **seed**, you will get a different sequence."
   ]
  },
  {
   "cell_type": "code",
   "execution_count": 14,
   "id": "418bfecf",
   "metadata": {},
   "outputs": [
    {
     "name": "stdout",
     "output_type": "stream",
     "text": [
      "[7 4 8 5 7 3 7 8 5 4 8 8 3 6 5]\n",
      "[3 3 7 2 4 7 2 1 2 1 1 4 5 1 1]\n"
     ]
    }
   ],
   "source": [
    "import numpy as np\n",
    "\n",
    "np.random.seed(42)             # global seed\n",
    "seq1 = np.random.randint(low=1, high=10, size=15)\n",
    "\n",
    "np.random.seed(123)\n",
    "seq2 = np.random.randint(1,10,15)\n",
    "\n",
    "print(seq1)\n",
    "print(seq2)"
   ]
  },
  {
   "cell_type": "markdown",
   "id": "90dbf6f0",
   "metadata": {},
   "source": [
    "### Following example will strengthen the concept of 'seed'.\n",
    "\n",
    "- In below example, I'm trying to proove a point that : **Are random numbers are generated sequentially when we have fixed set?**"
   ]
  },
  {
   "cell_type": "code",
   "execution_count": 15,
   "id": "9d7f776d",
   "metadata": {},
   "outputs": [
    {
     "name": "stdout",
     "output_type": "stream",
     "text": [
      "7 4 8 5 7 3 7 8 5 4 8 8 3 6 5 2 8 6 2 5 1 6 9 1 3 7 4 9 3 5 \n",
      "[3, 7, 5, 9, 7, 2, 4, 9, 2, 9]\n",
      "[5, 2, 4, 7, 8, 3, 1, 4, 2, 8]\n"
     ]
    }
   ],
   "source": [
    "import numpy as np\n",
    "\n",
    "np.random.seed(42)\n",
    "\n",
    "\n",
    "# Let's print the first 30 random numbers, of the sequence, whose seed = 42\n",
    "for _ in range(30):\n",
    "    print(np.random.randint(1,10),end=\" \")\n",
    "print()\n",
    "\n",
    "\n",
    "#  first 10 numbers of the sequence\n",
    "sequence_part_1 = []\n",
    "for _ in range(10):\n",
    "    sequence_part_1.append(np.random.randint(1, 10))\n",
    "print(sequence_part_1)\n",
    "\n",
    "# next 10 numbers of same sequence.\n",
    "sequence_part_2 = [np.random.randint(1,10) for _ in range(10)]\n",
    "print(sequence_part_2)"
   ]
  },
  {
   "cell_type": "markdown",
   "id": "f24e44fc",
   "metadata": {},
   "source": [
    "#### I'm not getting output as expected. \n",
    "#### Why?\n",
    " - I generate 30 random numbers in the first loop. That **advances the 'internal PRNG state' by 30 steps**.\n",
    "\n",
    " - Then, `sequence_part_1` starts from the **31st random number**, not the 1st.\n",
    "\n",
    " - And `sequence_part_2` starts from the **41st random number**\n",
    "\n",
    "**So, I need to reset the seed each time before generating those parts:**"
   ]
  },
  {
   "cell_type": "code",
   "execution_count": 16,
   "id": "58d5ea1b",
   "metadata": {},
   "outputs": [
    {
     "name": "stdout",
     "output_type": "stream",
     "text": [
      "7 4 8 5 7 3 7 8 5 4 8 8 3 6 5 2 8 6 2 5 1 6 9 1 3 7 4 9 3 5 \n",
      "[7, 4, 8, 5, 7, 3, 7, 8, 5, 4]\n",
      "[8, 8, 3, 6, 5, 2, 8, 6, 2, 5]\n"
     ]
    }
   ],
   "source": [
    "import random\n",
    "\n",
    "np.random.seed(42)\n",
    "for _ in range(30):\n",
    "    print(np.random.randint(1,10), end=\" \")\n",
    "print()\n",
    "\n",
    "np.random.seed(42)\n",
    "sequence_part_1 = [np.random.randint(1, 10) for _ in range(10)]\n",
    "print(sequence_part_1)\n",
    "\n",
    "# Now 'internal PRNG state' is at 11th step\n",
    "sequence_part_2 = [np.random.randint(1, 10) for _ in range(10)]\n",
    "print(sequence_part_2)\n"
   ]
  },
  {
   "cell_type": "markdown",
   "id": "9cc71d84",
   "metadata": {},
   "source": [
    "#### So, yes we are getting random numbers sequentially."
   ]
  },
  {
   "cell_type": "markdown",
   "id": "20d9a463",
   "metadata": {},
   "source": [
    "![purple-divider](https://user-images.githubusercontent.com/7065401/52071927-c1cd7100-2562-11e9-908a-dde91ba14e59.png)"
   ]
  },
  {
   "cell_type": "markdown",
   "id": "34082320",
   "metadata": {},
   "source": [
    "## `np.random`  vs.  `np.random.default_rng()`\n",
    "\n",
    "|  | `np.random` (Legacy) | `np.random.default_rng()` (Modern) |\n",
    "|---------|----------------------|-----------------------------------|\n",
    "| **Basic Type** | Global module functions | Object-based Generator |\n",
    "| **State Management** | Uses shared global state | Each Generator has independent state |\n",
    "| **Reproducibility** | Hard to control (affects all code) | Easy to isolate with separate generators |\n",
    "| **Statistical Quality** | Some older algorithms with quirks | More modern, statistically sound methods |\n",
    "| **Thread Safety** | Not safe for parallel use | Safe - use separate generators per thread |\n",
    "| **Seeding** | `np.random.seed(123)` sets global seed | `rng = np.random.default_rng(123)` creates local seed |\n",
    "| **Common Methods** | `random()`, `randint()`, `normal()`, `choice()`, `shuffle()` | `random()`, `integers()`, `normal()`, `choice()`, `shuffle()` |\n",
    "| **Status** | Still works but discouraged | Recommended for all new code |\n",
    "\n",
    "## Quick Example\n",
    "\n",
    "```python\n",
    "# Legacy approach (not recommended for new code)\n",
    "import numpy as np\n",
    "np.random.seed(42)\n",
    "values = np.random.random(5)\n",
    "\n",
    "# Modern approach (recommended)\n",
    "rng = np.random.default_rng(42)\n",
    "values = rng.random(5)\n",
    "```"
   ]
  },
  {
   "cell_type": "markdown",
   "id": "1dfa1ed5",
   "metadata": {},
   "source": [
    "![green-divider](https://user-images.githubusercontent.com/7065401/52071924-c003ad80-2562-11e9-8297-1c6595f8a7ff.png)"
   ]
  },
  {
   "cell_type": "code",
   "execution_count": 36,
   "id": "1e0eba53",
   "metadata": {},
   "outputs": [
    {
     "name": "stdout",
     "output_type": "stream",
     "text": [
      "Uniform samples (0-1): [0.77395605 0.43887844 0.85859792 0.69736803 0.09417735]\n",
      "Uniform samples (10-20): [19.75622352 17.61139702 17.86064305 11.28113633 14.50385938]\n"
     ]
    }
   ],
   "source": [
    "import numpy as np\n",
    "\n",
    "random_numbers = np.random.rand()\n",
    "rng = np.random.default_rng()\n",
    "# Generate 5 random floats between 0 and 1\n",
    "\n",
    "\n",
    "rng = np.random.default_rng(42)\n",
    "uniform_samples = rng.random(5)\n",
    "print(\"Uniform samples (0-1):\", uniform_samples)\n",
    "\n",
    "# Generate 5 random floats between 10 and 20\n",
    "uniform_range = rng.uniform(10, 20, 5)\n",
    "print(\"Uniform samples (10-20):\", uniform_range)"
   ]
  },
  {
   "cell_type": "code",
   "execution_count": 7,
   "id": "ee3b0e2f",
   "metadata": {},
   "outputs": [
    {
     "data": {
      "text/plain": [
       "0.18249173045349998"
      ]
     },
     "execution_count": 7,
     "metadata": {},
     "output_type": "execute_result"
    }
   ],
   "source": [
    "single_float = np.random.random()\n",
    "single_float"
   ]
  },
  {
   "cell_type": "markdown",
   "id": "db6139a1",
   "metadata": {},
   "source": [
    "## Basic functions : \n",
    "\n",
    "### 1. random() - Uniform Random Numbers\n",
    "**Parameters:**\n",
    " - **size**: Output shape (int or tuple)"
   ]
  },
  {
   "cell_type": "code",
   "execution_count": 35,
   "id": "233068d2",
   "metadata": {},
   "outputs": [
    {
     "name": "stdout",
     "output_type": "stream",
     "text": [
      "2x3 array of uniform randoms:\n",
      " [[0.42510263 0.87941173 0.27034097]\n",
      " [0.89374313 0.42597096 0.32780772]]\n"
     ]
    }
   ],
   "source": [
    "# Generate a single random float\n",
    "single_float = rng.random()\n",
    "\n",
    "# Generate a 2x3 array of random floats\n",
    "array_floats = rng.random((2, 3))\n",
    "print(\"2x3 array of uniform randoms:\\n\", array_floats)\n",
    "\n"
   ]
  },
  {
   "cell_type": "markdown",
   "id": "0ce684ab",
   "metadata": {},
   "source": [
    "### 2. integers() - Random Integers\n",
    "**Parameters**:\n",
    " - **low**: Lower bound (inclusive)  \n",
    "\n",
    " - **high**: Upper bound (exclusive by default)  \n",
    " - **size**: Output shape\n",
    " - **endpoint**: Whether to include high value (default False)\n",
    " - **dtype**: Output data type"
   ]
  },
  {
   "cell_type": "code",
   "execution_count": 33,
   "id": "95c1319e",
   "metadata": {},
   "outputs": [
    {
     "name": "stdout",
     "output_type": "stream",
     "text": [
      "Integers (0-9): [4 9 9 4 7 0 0 2 6 1]\n",
      "Integers (1-10): [1 7 8 8 8 9 7 6 9 4]\n"
     ]
    }
   ],
   "source": [
    "# Generate 10 random integers between 0 and 9\n",
    "ints_0_9 = rng.integers(0, 10, 10)\n",
    "print(\"Integers (0-9):\", ints_0_9)\n",
    "\n",
    "# Generate 10 random integers between 1 and 10 (inclusive)\n",
    "ints_1_10 = rng.integers(1, 11, 10)  # Method 1\n",
    "ints_1_10_alt = rng.integers(1, 10, 10, endpoint=True)  # Method 2\n",
    "print(\"Integers (1-10):\", ints_1_10)\n"
   ]
  },
  {
   "cell_type": "markdown",
   "id": "fb4e5ac8",
   "metadata": {},
   "source": [
    "### 3. choice() - Random Selection\n",
    "**Parameters**:\n",
    "\n",
    "- **a**: Array-like input to sample from (or int to sample from range)\n",
    "\n",
    "- **size**: Output shape\n",
    "- **replace**: Allow repeated selection (default True)\n",
    "- **p**: Probability array for weighted selection\n"
   ]
  },
  {
   "cell_type": "code",
   "execution_count": 29,
   "id": "cac09c0c",
   "metadata": {},
   "outputs": [
    {
     "name": "stdout",
     "output_type": "stream",
     "text": [
      "Selected letters: ['b' 'b' 'c' 'd' 'e']\n",
      "Weighted selection: ['d' 'd' 'c' 'd' 'd' 'c' 'b' 'c' 'b' 'b']\n"
     ]
    }
   ],
   "source": [
    "# Select 5 random letters from a list\n",
    "letters = ['a', 'b', 'c', 'd', 'e']\n",
    "selected = rng.choice(letters, 5, replace=True)\n",
    "print(\"Selected letters:\", selected)\n",
    "\n",
    "# Select with custom weights\n",
    "weighted = rng.choice(letters, 10, p=[0.1, 0.2, 0.4, 0.2, 0.1])\n",
    "print(\"Weighted selection:\", weighted)\n",
    "\n"
   ]
  },
  {
   "cell_type": "markdown",
   "id": "3f04532d",
   "metadata": {},
   "source": [
    "### 4. shuffle() - Random Permutation\n",
    "**Parameters**:\n",
    " - **x**: Array to be shuffled (modified in-place)\n",
    " \n",
    " - **axis**: Axis along which to shuffle (default 0)"
   ]
  },
  {
   "cell_type": "code",
   "execution_count": 28,
   "id": "9b31fe6a",
   "metadata": {},
   "outputs": [
    {
     "name": "stdout",
     "output_type": "stream",
     "text": [
      "Shuffled array: [5 4 9 6 0 7 8 1 2 3]\n",
      "Original matrix:\n",
      " [[ 0  1  2  3]\n",
      " [ 4  5  6  7]\n",
      " [ 8  9 10 11]]\n",
      "Shuffled matrix:\n",
      " [[ 8  9 10 11]\n",
      " [ 0  1  2  3]\n",
      " [ 4  5  6  7]]\n"
     ]
    }
   ],
   "source": [
    "# Create and shuffle an array\n",
    "arr = np.arange(10)\n",
    "rng.shuffle(arr)\n",
    "print(\"Shuffled array:\", arr)\n",
    "\n",
    "# For arrays with multiple dimensions\n",
    "matrix = np.arange(12).reshape(3, 4)\n",
    "print(\"Original matrix:\\n\", matrix)\n",
    "rng.shuffle(matrix)  # Shuffles the rows by default\n",
    "print(\"Shuffled matrix:\\n\", matrix)\n"
   ]
  },
  {
   "cell_type": "markdown",
   "id": "b951096a",
   "metadata": {},
   "source": [
    "### 5. permutation() - Return Shuffled Copy\n",
    "**Parameters**:\n",
    " - **x** : Array or int  \n",
    " - **axis**: Axis along which to shuffle (default 0)"
   ]
  },
  {
   "cell_type": "code",
   "execution_count": 27,
   "id": "e0249ec0",
   "metadata": {},
   "outputs": [
    {
     "name": "stdout",
     "output_type": "stream",
     "text": [
      "Original: [0 1 2 3 4 5 6 7 8 9]\n",
      "Shuffled copy: [2 9 0 8 4 1 6 7 3 5]\n",
      "Permutation of range(10): [6 3 8 2 9 5 1 7 4 0]\n"
     ]
    }
   ],
   "source": [
    "# Return a shuffled copy (original remains unchanged)\n",
    "arr = np.arange(10)\n",
    "shuffled = rng.permutation(arr)\n",
    "print(\"Original:\", arr)\n",
    "print(\"Shuffled copy:\", shuffled)\n",
    "\n",
    "# From integer (equivalent to shuffled range)\n",
    "perm_range = rng.permutation(10)\n",
    "print(\"Permutation of range(10):\", perm_range)"
   ]
  },
  {
   "cell_type": "markdown",
   "id": "05a05a90",
   "metadata": {},
   "source": [
    "![purple-divider](https://user-images.githubusercontent.com/7065401/52071927-c1cd7100-2562-11e9-908a-dde91ba14e59.png)"
   ]
  },
  {
   "cell_type": "markdown",
   "id": "de17731e",
   "metadata": {},
   "source": [
    "## Distributions"
   ]
  },
  {
   "cell_type": "markdown",
   "id": "fbb372a7",
   "metadata": {},
   "source": [
    "### 1. Uniform : Generates numbers where **all values** in a range have **equal probability**."
   ]
  },
  {
   "cell_type": "code",
   "execution_count": null,
   "id": "065c05ca",
   "metadata": {},
   "outputs": [
    {
     "name": "stdout",
     "output_type": "stream",
     "text": [
      "Uniform samples (0-1): [0.77395605 0.43887844 0.85859792 0.69736803 0.09417735]\n",
      "Uniform samples (10-20): [19.75622352 17.61139702 17.86064305 11.28113633 14.50385938]\n"
     ]
    }
   ],
   "source": [
    "# Generate 5 random floats between 0 and 1,  random()\n",
    "rng = np.random.default_rng(42)\n",
    "uniform_samples = rng.random(5)\n",
    "print(\"Uniform samples (0-1):\", uniform_samples)\n",
    "\n",
    "\n",
    "# uniform()\n",
    "# Generate 5 random floats between 10 and 20\n",
    "uniform_range = rng.uniform(10, 20, 5)\n",
    "print(\"Uniform samples (10-20):\", uniform_range)"
   ]
  },
  {
   "cell_type": "markdown",
   "id": "528b3e38",
   "metadata": {},
   "source": [
    "**Note** :  we are using different functions for different ranges"
   ]
  },
  {
   "cell_type": "markdown",
   "id": "cea74a5c",
   "metadata": {},
   "source": [
    "### 2. Normal Distribution : normal()\n",
    "\n",
    "- Generates numbers following **a bell curve centered around a mean**.  \n",
    "\n",
    "- **normal()** funxn is used.\n",
    "- **Parameters**:\n",
    "    - **loc**: Mean (center) of distribution\n",
    "    - **scale**: Standard deviation\n",
    "    - **size**: Output shape\n"
   ]
  },
  {
   "cell_type": "code",
   "execution_count": 32,
   "id": "190c1b89",
   "metadata": {},
   "outputs": [
    {
     "data": {
      "text/plain": [
       "array([-1.12295705,  0.76686729, -1.22470478,  1.15894958,  2.85743842,\n",
       "        0.36645115,  0.58310814, -0.49285977, -1.81021332, -0.60271936,\n",
       "       -1.09289524, -1.44700458,  1.72235994,  0.27286252,  0.37968758,\n",
       "       -0.30902237, -0.17287108,  0.96455068, -0.03233712,  0.53069394,\n",
       "       -0.1960043 , -0.34215289, -1.40691417, -1.97774906, -0.2615619 ,\n",
       "        0.05649669, -1.28613004, -0.03447487,  0.05375256, -2.15600801,\n",
       "       -0.91512466,  0.40726389,  0.38705873, -1.15367492,  0.15844805,\n",
       "        1.02240723,  0.77707296, -0.09528579, -0.46797631, -0.62934448,\n",
       "        0.46781978,  0.19510397,  0.62940401,  0.13187381,  0.81876395,\n",
       "        0.09459253,  0.78468872,  0.87082277, -0.80452663, -1.80814405])"
      ]
     },
     "execution_count": 32,
     "metadata": {},
     "output_type": "execute_result"
    }
   ],
   "source": [
    "# Generate 1000 samples for a histogram\n",
    "samples = rng.normal(loc=0, scale=1, size=50)\n",
    "samples"
   ]
  },
  {
   "cell_type": "code",
   "execution_count": 26,
   "id": "bf5f6a56",
   "metadata": {},
   "outputs": [
    {
     "name": "stdout",
     "output_type": "stream",
     "text": [
      "Normal samples (mean=0, std=1): [0.87939797 0.77779194 0.0660307  1.12724121 0.46750934]\n",
      "Normal samples (mean=100, std=15): [ 87.11061306 105.53126176  85.61676099 113.17675452  99.25111134]\n"
     ]
    }
   ],
   "source": [
    "# Generate 5 values from standard normal distribution (mean=0, std=1)\n",
    "normal_samples = rng.normal(0, 1, 5)\n",
    "print(\"Normal samples (mean=0, std=1):\", normal_samples)\n",
    "\n",
    "# Generate 5 values with mean=100 and std=15\n",
    "custom_normal = rng.normal(100, 15, 5)\n",
    "print(\"Normal samples (mean=100, std=15):\", custom_normal)"
   ]
  }
 ],
 "metadata": {
  "kernelspec": {
   "display_name": "venv",
   "language": "python",
   "name": "python3"
  },
  "language_info": {
   "codemirror_mode": {
    "name": "ipython",
    "version": 3
   },
   "file_extension": ".py",
   "mimetype": "text/x-python",
   "name": "python",
   "nbconvert_exporter": "python",
   "pygments_lexer": "ipython3",
   "version": "3.10.12"
  }
 },
 "nbformat": 4,
 "nbformat_minor": 5
}
