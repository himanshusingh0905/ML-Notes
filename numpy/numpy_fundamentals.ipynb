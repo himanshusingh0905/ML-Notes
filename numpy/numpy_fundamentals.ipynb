{
 "cells": [
  {
   "cell_type": "markdown",
   "id": "ab754dd6",
   "metadata": {},
   "source": [
    "## Basic operations on numpy arrays"
   ]
  },
  {
   "cell_type": "code",
   "execution_count": 2,
   "id": "e97ea6bd",
   "metadata": {},
   "outputs": [
    {
     "data": {
      "text/plain": [
       "array([1, 2, 3, 4, 5])"
      ]
     },
     "execution_count": 2,
     "metadata": {},
     "output_type": "execute_result"
    }
   ],
   "source": [
    "import numpy as np\n",
    "\n",
    "x = [1,2,3,4,5]\n",
    "\n",
    "ar = np.array(x)\n",
    "\n",
    "ar"
   ]
  },
  {
   "cell_type": "code",
   "execution_count": null,
   "id": "4be103d5",
   "metadata": {},
   "outputs": [
    {
     "data": {
      "text/plain": [
       "array([0.2, 0.4, 0.6, 0.8, 1. ])"
      ]
     },
     "execution_count": 10,
     "metadata": {},
     "output_type": "execute_result"
    }
   ],
   "source": [
    "ar ** 2\n",
    "\n",
    "ar + 2\n",
    "\n",
    "ar - 9\n",
    "\n",
    "ar / 5\n"
   ]
  },
  {
   "cell_type": "markdown",
   "id": "b4a1c15a",
   "metadata": {},
   "source": [
    "## Numpy Functions:"
   ]
  },
  {
   "cell_type": "markdown",
   "id": "efa6532f",
   "metadata": {},
   "source": [
    "### 1. arange(start, stop, step)\n",
    "  - Creates numpy array, starting from ***start***, going up to ***but not including*** `stop`, in increaments of `step`."
   ]
  },
  {
   "cell_type": "code",
   "execution_count": 13,
   "id": "a612e2f1",
   "metadata": {},
   "outputs": [
    {
     "name": "stdout",
     "output_type": "stream",
     "text": [
      "type of result : <class 'numpy.ndarray'>\n",
      "[ 4  9 14 19 24]\n"
     ]
    }
   ],
   "source": [
    "import numpy as np\n",
    "\n",
    "ar = np.arange(4,25, 5)\n",
    "\n",
    "print(f\"type of result : {type(ar)}\")\n",
    "print(ar)"
   ]
  },
  {
   "cell_type": "code",
   "execution_count": 16,
   "id": "b04b8f30",
   "metadata": {},
   "outputs": [
    {
     "name": "stdout",
     "output_type": "stream",
     "text": [
      "0 400\n"
     ]
    }
   ],
   "source": [
    "List = [0,400]\n",
    "print(*List)"
   ]
  }
 ],
 "metadata": {
  "kernelspec": {
   "display_name": "venv",
   "language": "python",
   "name": "python3"
  },
  "language_info": {
   "codemirror_mode": {
    "name": "ipython",
    "version": 3
   },
   "file_extension": ".py",
   "mimetype": "text/x-python",
   "name": "python",
   "nbconvert_exporter": "python",
   "pygments_lexer": "ipython3",
   "version": "3.10.12"
  }
 },
 "nbformat": 4,
 "nbformat_minor": 5
}
