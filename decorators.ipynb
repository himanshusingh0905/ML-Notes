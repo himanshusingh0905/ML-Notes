{
 "cells": [
  {
   "cell_type": "markdown",
   "id": "276d53f7",
   "metadata": {},
   "source": [
    "## Functions as First-Class Citizens\n",
    "**In Python:**\n",
    " - Functions can be passed as **arguments**\n",
    "\n",
    " - Functions can be **returned from other functions**\n",
    "\n",
    " - Functions can be **stored in variables**"
   ]
  },
  {
   "cell_type": "code",
   "execution_count": null,
   "id": "83c52ddc",
   "metadata": {},
   "outputs": [
    {
     "name": "stdout",
     "output_type": "stream",
     "text": [
      "Only greet :-> <function greet at 0x7aa98dca5ea0>\n",
      "Only func :-> <function greet at 0x7aa98dca5ea0>\n",
      "Hello David\n",
      "Hello Warner\n"
     ]
    }
   ],
   "source": [
    "def greet(name):\n",
    "    return f\"Hello {name}\"\n",
    "\n",
    "func = greet   # deep copy, address/reference is copied\n",
    "\n",
    "print(\"Only greet :->\", greet)\n",
    "print(\"Only func :->\", func)\n",
    "# NoteBoth func and greet are pointing to same location \n",
    "\n",
    "# Let's call greet\n",
    "print(greet(\"David\"))\n",
    "\n",
    "# Let's call func\n",
    "\n",
    "print( func(\"Warner\"))\n"
   ]
  },
  {
   "cell_type": "markdown",
   "id": "a3b6a7d1",
   "metadata": {},
   "source": [
    "### Below example shows:\n",
    "1. **Functions can be passed as argument.**\n",
    "\n",
    "2. **Functions can be returned from other functions.**"
   ]
  },
  {
   "cell_type": "code",
   "execution_count": null,
   "id": "b28bb249",
   "metadata": {},
   "outputs": [
    {
     "name": "stdout",
     "output_type": "stream",
     "text": [
      "Hello Himanshu\n"
     ]
    }
   ],
   "source": [
    "def greet(name):\n",
    "    return f\"Hello {name}\"\n",
    "\n",
    "def call_func(func):\n",
    "    value_returned = func(\"Himanshu\")\n",
    "    return value_returned\n",
    "\n",
    "print(call_func(greet))  \n"
   ]
  },
  {
   "cell_type": "markdown",
   "id": "7955868b",
   "metadata": {},
   "source": [
    "### Let's write first decorator program"
   ]
  },
  {
   "cell_type": "code",
   "execution_count": null,
   "id": "7c65e961",
   "metadata": {},
   "outputs": [
    {
     "name": "stdout",
     "output_type": "stream",
     "text": [
      "******* Before calling ******\n",
      "Hello, How are you?\n",
      "******* After calling ******\n"
     ]
    }
   ],
   "source": [
    "\n",
    "def my_decorator(func):\n",
    "    def wrapper():\n",
    "        print(\"******* Before calling ******\")\n",
    "        func()\n",
    "        print(\"******* After calling ******\")\n",
    "\n",
    "    # Returning the reference of wrapper only\n",
    "    return wrapper\n",
    "\n",
    "# @my_decorator :->  greet = my_decorator(greet)\n",
    "@my_decorator\n",
    "def greet():\n",
    "    print(\"Hello, How are you?\")\n",
    "\n",
    "\n",
    "greet()\n",
    "\n"
   ]
  },
  {
   "cell_type": "markdown",
   "id": "a3f0e9f2",
   "metadata": {},
   "source": [
    "## Decorator with Arguments"
   ]
  },
  {
   "cell_type": "code",
   "execution_count": 25,
   "id": "91b7ff27",
   "metadata": {},
   "outputs": [
    {
     "name": "stdout",
     "output_type": "stream",
     "text": [
      "******* Before calling ******\n",
      "Hi Warner! How are you?\n",
      "******* After calling ******\n"
     ]
    }
   ],
   "source": [
    "\n",
    "\n",
    "def decorator_with_args(func):\n",
    "    def wrapper():\n",
    "        print(\"******* Before calling ******\")\n",
    "        name = \"Warner\"\n",
    "        \n",
    "        func(name)\n",
    "        print(\"******* After calling ******\")\n",
    "    return wrapper\n",
    "\n",
    "@decorator_with_args\n",
    "def greet(name):\n",
    "    print(f\"Hi {name}! How are you?\")\n",
    "\n",
    "greet()\n"
   ]
  },
  {
   "cell_type": "markdown",
   "id": "773b56dd",
   "metadata": {},
   "source": [
    "### Let's understand how above function's execution is working: \n",
    "\n",
    "1. Define decorator_with_args   \n",
    "2. Define greet(name)   \n",
    "3. Apply decorator:   \n",
    "   - greet = decorator_with_args(greet)   \n",
    "4. greet(\"Himanshu\")    \n",
    "   - actually calls wrapper(\"Himanshu\")    \n",
    "   - prints log   \n",
    "   - calls original greet(name)   \n"
   ]
  },
  {
   "cell_type": "markdown",
   "id": "704af821",
   "metadata": {},
   "source": [
    "# Problems\n"
   ]
  },
  {
   "cell_type": "markdown",
   "id": "950ed61a",
   "metadata": {},
   "source": [
    "## Practice 1: Logging Decorator\n",
    "### Write a decorator *log_call* that prints the *function name* and *arguments* before calling the function."
   ]
  },
  {
   "cell_type": "code",
   "execution_count": 29,
   "id": "891829c0",
   "metadata": {},
   "outputs": [
    {
     "name": "stdout",
     "output_type": "stream",
     "text": [
      "Function name : profile, with ('David', 24) and {}\n"
     ]
    }
   ],
   "source": [
    "\n",
    "def log_call(func):\n",
    "    def wrapper(*args, **kwargs):\n",
    "        print(f\"Function name : {func.__name__}, with {args} and {kwargs}\")\n",
    "        \n",
    "    \n",
    "    return wrapper\n",
    "\n",
    "@log_call\n",
    "def profile(name, age):\n",
    "    print(f\"My name is {name} and I'm {age}\")\n",
    "\n",
    "\n",
    "profile(\"David\", 24)"
   ]
  }
 ],
 "metadata": {
  "kernelspec": {
   "display_name": "venv",
   "language": "python",
   "name": "python3"
  },
  "language_info": {
   "codemirror_mode": {
    "name": "ipython",
    "version": 3
   },
   "file_extension": ".py",
   "mimetype": "text/x-python",
   "name": "python",
   "nbconvert_exporter": "python",
   "pygments_lexer": "ipython3",
   "version": "3.10.12"
  }
 },
 "nbformat": 4,
 "nbformat_minor": 5
}
