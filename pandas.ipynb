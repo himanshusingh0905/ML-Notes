{
 "cells": [
  {
   "cell_type": "markdown",
   "id": "85640fc6",
   "metadata": {},
   "source": [
    "# Pandas Quick Reference\n",
    "\n",
    "## Data Loading\n",
    "**Properties:**\n",
    "- None\n",
    "\n",
    "**Functions:**\n",
    "- `pd.read_csv()` — Load a CSV file into a DataFrame"
   ]
  },
  {
   "cell_type": "markdown",
   "id": "89afa97b",
   "metadata": {},
   "source": [
    "## Data Exploration\n",
    "**Properties:**\n",
    "- `df.shape` : Returns the dimensiors of dataframe in the form of Tuple of (rows, columns).\n",
    "\n",
    "- `df.columns` : 'Index object' containing column names. *Index object* is also iterable.\n",
    "\n",
    "- `len(df)` — Returns the number of rows in the DataFrame\n",
    "\n",
    "**Functions:**\n",
    "- `df.head()` — Return the first 5 rows.\n",
    "\n",
    "- `df.sample(n)` — Randomly return `n` rows.\n",
    "\n",
    "- `df['col'].value_counts()` : Returns **frequency count** of unique values in a **column**\n",
    "\n",
    "\n",
    "![green-divider](https://user-images.githubusercontent.com/7065401/52071924-c003ad80-2562-11e9-8297-1c6595f8a7ff.png)\n",
    "#### 1. value_counts() :\n",
    "   1. **If applied on 'dataframe' i.e. `df.value_counts()` :** \n",
    "      - Returns a Series containing the **frequency** of each distinct row the in the **DataFrame**.\n",
    "\n",
    "      - By default :  \n",
    "        - It excludes rows with any NA values.\n",
    "\n",
    "        - Sorts the results in **descending order by frequency**, and returns the raw counts.\n",
    "\n",
    "      - **PARAMETERS :**\n",
    "        - **subset**: Specify columns to count unique combinations for, instead of all columns.\n",
    "\n",
    "        - **normalize**: If ***True***, returns the relative frequencies (proportions) instead of raw counts. i.e `[frequency / total_rows]`\n",
    "\n",
    "        - **sort**: If ***False***, sorts by column values instead of frequency. i.e. the order in which they appeared.\n",
    "\n",
    "        - **ascending**: If ***True***, sorts in ascending order.\n",
    "\n",
    "        - **dropna**: If ***False***, includes rows with NA values in the counts.\n",
    "\n",
    "---\n",
    "\n",
    "   2. **If applied on Series : `Series.value_counts()`  :**  \n",
    "\n",
    "       - Returns a Series with the counts of  frequecy of each unique value in that Series.\n",
    "\n",
    "       - Results are sorted by ***frequency in descending order by default***.\n",
    "\n",
    "       - The **normalize** parameter returns proportions instead of counts if set to True.\n",
    "\n",
    "       - The **dropna** parameter controls whether missing values are included.\n",
    "\n",
    "![green-divider](https://user-images.githubusercontent.com/7065401/52071924-c003ad80-2562-11e9-8297-1c6595f8a7ff.png)\n"
   ]
  },
  {
   "cell_type": "markdown",
   "id": "886bf907",
   "metadata": {},
   "source": [
    "## Missing Values\n",
    "**Properties:**\n",
    "- None\n",
    "\n",
    "**Functions:**\n",
    "- `df.isnull()` : Returns DataFrame of `booleans` where values are missing.\n",
    "\n",
    "- `df[var].isnull()` : Series of `booleans` where the column has **NaN**\n",
    "\n",
    "- `df.isnull().mean()` : Returns **mean** of missing values in each **column**.\n",
    "\n",
    "- `df.dropna()` / `df[cols].dropna()` : Drop rows with `NaN`\n"
   ]
  },
  {
   "cell_type": "markdown",
   "id": "08a80767",
   "metadata": {},
   "source": [
    "\n",
    "## Data Selection & Filtering\n",
    "**Properties:**\n",
    "- `df.columns` — Used with list comprehension for dynamic column filtering\n",
    "\n",
    "**Functions:**\n",
    "- `df['column']` — Select single column (Series)\n",
    "- `df[cols]` — Select multiple columns\n",
    "- `[var for var in df.columns if ...]` — Python list comprehension to filter column names"
   ]
  },
  {
   "cell_type": "markdown",
   "id": "25c1feb8",
   "metadata": {},
   "source": [
    "## Combining / Merging\n",
    "**Properties:**\n",
    "- None\n",
    "\n",
    "**Functions:**\n",
    "- `pd.concat([...], axis=1)` — Concatenate DataFrames/Series column-wise\n",
    "\n",
    "## Visualization (via Pandas + Matplotlib)\n",
    "**Properties:**\n",
    "- None\n",
    "\n",
    "**Functions:**\n",
    "- `df['column'].hist()` — Histogram plot of a column\n",
    "- `df['column'].plot.density()` — KDE (density) plot of a column"
   ]
  }
 ],
 "metadata": {
  "language_info": {
   "name": "python"
  }
 },
 "nbformat": 4,
 "nbformat_minor": 5
}
