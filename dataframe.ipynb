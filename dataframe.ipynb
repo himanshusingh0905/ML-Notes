{
  "nbformat": 4,
  "nbformat_minor": 0,
  "metadata": {
    "colab": {
      "provenance": [],
      "authorship_tag": "ABX9TyOtVhI5Z4gJzG0gjzGMBjuf",
      "include_colab_link": true
    },
    "kernelspec": {
      "name": "python3",
      "display_name": "Python 3"
    },
    "language_info": {
      "name": "python"
    }
  },
  "cells": [
    {
      "cell_type": "markdown",
      "metadata": {
        "id": "view-in-github",
        "colab_type": "text"
      },
      "source": [
        "<a href=\"https://colab.research.google.com/github/himanshusingh0905/ML-Notes/blob/main/dataframe.ipynb\" target=\"_parent\"><img src=\"https://colab.research.google.com/assets/colab-badge.svg\" alt=\"Open In Colab\"/></a>"
      ]
    },
    {
      "cell_type": "markdown",
      "source": [
        "# Dataframe and series\n",
        "* **Dataframe** is just like a table.\n",
        "* and **series** is a column of that table."
      ],
      "metadata": {
        "id": "PBH95PUORRdT"
      }
    },
    {
      "cell_type": "code",
      "execution_count": null,
      "metadata": {
        "id": "vI8aRFw_ROxB"
      },
      "outputs": [],
      "source": []
    }
  ]
}